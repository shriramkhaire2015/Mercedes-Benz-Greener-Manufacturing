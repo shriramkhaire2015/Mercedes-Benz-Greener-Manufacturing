{
 "cells": [
  {
   "cell_type": "code",
   "execution_count": 1,
   "id": "e8f229ae",
   "metadata": {},
   "outputs": [],
   "source": [
    "import numpy as np\n",
    "import pandas as pd\n",
    "import matplotlib.pyplot as plt\n",
    "%matplotlib inline"
   ]
  },
  {
   "cell_type": "code",
   "execution_count": 2,
   "id": "b0e10ede",
   "metadata": {},
   "outputs": [
    {
     "data": {
      "text/html": [
       "<div>\n",
       "<style scoped>\n",
       "    .dataframe tbody tr th:only-of-type {\n",
       "        vertical-align: middle;\n",
       "    }\n",
       "\n",
       "    .dataframe tbody tr th {\n",
       "        vertical-align: top;\n",
       "    }\n",
       "\n",
       "    .dataframe thead th {\n",
       "        text-align: right;\n",
       "    }\n",
       "</style>\n",
       "<table border=\"1\" class=\"dataframe\">\n",
       "  <thead>\n",
       "    <tr style=\"text-align: right;\">\n",
       "      <th></th>\n",
       "      <th>ID</th>\n",
       "      <th>y</th>\n",
       "      <th>X0</th>\n",
       "      <th>X1</th>\n",
       "      <th>X2</th>\n",
       "      <th>X3</th>\n",
       "      <th>X4</th>\n",
       "      <th>X5</th>\n",
       "      <th>X6</th>\n",
       "      <th>X8</th>\n",
       "      <th>...</th>\n",
       "      <th>X375</th>\n",
       "      <th>X376</th>\n",
       "      <th>X377</th>\n",
       "      <th>X378</th>\n",
       "      <th>X379</th>\n",
       "      <th>X380</th>\n",
       "      <th>X382</th>\n",
       "      <th>X383</th>\n",
       "      <th>X384</th>\n",
       "      <th>X385</th>\n",
       "    </tr>\n",
       "  </thead>\n",
       "  <tbody>\n",
       "    <tr>\n",
       "      <th>0</th>\n",
       "      <td>0</td>\n",
       "      <td>130.81</td>\n",
       "      <td>k</td>\n",
       "      <td>v</td>\n",
       "      <td>at</td>\n",
       "      <td>a</td>\n",
       "      <td>d</td>\n",
       "      <td>u</td>\n",
       "      <td>j</td>\n",
       "      <td>o</td>\n",
       "      <td>...</td>\n",
       "      <td>0</td>\n",
       "      <td>0</td>\n",
       "      <td>1</td>\n",
       "      <td>0</td>\n",
       "      <td>0</td>\n",
       "      <td>0</td>\n",
       "      <td>0</td>\n",
       "      <td>0</td>\n",
       "      <td>0</td>\n",
       "      <td>0</td>\n",
       "    </tr>\n",
       "    <tr>\n",
       "      <th>1</th>\n",
       "      <td>6</td>\n",
       "      <td>88.53</td>\n",
       "      <td>k</td>\n",
       "      <td>t</td>\n",
       "      <td>av</td>\n",
       "      <td>e</td>\n",
       "      <td>d</td>\n",
       "      <td>y</td>\n",
       "      <td>l</td>\n",
       "      <td>o</td>\n",
       "      <td>...</td>\n",
       "      <td>1</td>\n",
       "      <td>0</td>\n",
       "      <td>0</td>\n",
       "      <td>0</td>\n",
       "      <td>0</td>\n",
       "      <td>0</td>\n",
       "      <td>0</td>\n",
       "      <td>0</td>\n",
       "      <td>0</td>\n",
       "      <td>0</td>\n",
       "    </tr>\n",
       "    <tr>\n",
       "      <th>2</th>\n",
       "      <td>7</td>\n",
       "      <td>76.26</td>\n",
       "      <td>az</td>\n",
       "      <td>w</td>\n",
       "      <td>n</td>\n",
       "      <td>c</td>\n",
       "      <td>d</td>\n",
       "      <td>x</td>\n",
       "      <td>j</td>\n",
       "      <td>x</td>\n",
       "      <td>...</td>\n",
       "      <td>0</td>\n",
       "      <td>0</td>\n",
       "      <td>0</td>\n",
       "      <td>0</td>\n",
       "      <td>0</td>\n",
       "      <td>0</td>\n",
       "      <td>1</td>\n",
       "      <td>0</td>\n",
       "      <td>0</td>\n",
       "      <td>0</td>\n",
       "    </tr>\n",
       "    <tr>\n",
       "      <th>3</th>\n",
       "      <td>9</td>\n",
       "      <td>80.62</td>\n",
       "      <td>az</td>\n",
       "      <td>t</td>\n",
       "      <td>n</td>\n",
       "      <td>f</td>\n",
       "      <td>d</td>\n",
       "      <td>x</td>\n",
       "      <td>l</td>\n",
       "      <td>e</td>\n",
       "      <td>...</td>\n",
       "      <td>0</td>\n",
       "      <td>0</td>\n",
       "      <td>0</td>\n",
       "      <td>0</td>\n",
       "      <td>0</td>\n",
       "      <td>0</td>\n",
       "      <td>0</td>\n",
       "      <td>0</td>\n",
       "      <td>0</td>\n",
       "      <td>0</td>\n",
       "    </tr>\n",
       "    <tr>\n",
       "      <th>4</th>\n",
       "      <td>13</td>\n",
       "      <td>78.02</td>\n",
       "      <td>az</td>\n",
       "      <td>v</td>\n",
       "      <td>n</td>\n",
       "      <td>f</td>\n",
       "      <td>d</td>\n",
       "      <td>h</td>\n",
       "      <td>d</td>\n",
       "      <td>n</td>\n",
       "      <td>...</td>\n",
       "      <td>0</td>\n",
       "      <td>0</td>\n",
       "      <td>0</td>\n",
       "      <td>0</td>\n",
       "      <td>0</td>\n",
       "      <td>0</td>\n",
       "      <td>0</td>\n",
       "      <td>0</td>\n",
       "      <td>0</td>\n",
       "      <td>0</td>\n",
       "    </tr>\n",
       "    <tr>\n",
       "      <th>...</th>\n",
       "      <td>...</td>\n",
       "      <td>...</td>\n",
       "      <td>...</td>\n",
       "      <td>...</td>\n",
       "      <td>...</td>\n",
       "      <td>...</td>\n",
       "      <td>...</td>\n",
       "      <td>...</td>\n",
       "      <td>...</td>\n",
       "      <td>...</td>\n",
       "      <td>...</td>\n",
       "      <td>...</td>\n",
       "      <td>...</td>\n",
       "      <td>...</td>\n",
       "      <td>...</td>\n",
       "      <td>...</td>\n",
       "      <td>...</td>\n",
       "      <td>...</td>\n",
       "      <td>...</td>\n",
       "      <td>...</td>\n",
       "      <td>...</td>\n",
       "    </tr>\n",
       "    <tr>\n",
       "      <th>4204</th>\n",
       "      <td>8405</td>\n",
       "      <td>107.39</td>\n",
       "      <td>ak</td>\n",
       "      <td>s</td>\n",
       "      <td>as</td>\n",
       "      <td>c</td>\n",
       "      <td>d</td>\n",
       "      <td>aa</td>\n",
       "      <td>d</td>\n",
       "      <td>q</td>\n",
       "      <td>...</td>\n",
       "      <td>1</td>\n",
       "      <td>0</td>\n",
       "      <td>0</td>\n",
       "      <td>0</td>\n",
       "      <td>0</td>\n",
       "      <td>0</td>\n",
       "      <td>0</td>\n",
       "      <td>0</td>\n",
       "      <td>0</td>\n",
       "      <td>0</td>\n",
       "    </tr>\n",
       "    <tr>\n",
       "      <th>4205</th>\n",
       "      <td>8406</td>\n",
       "      <td>108.77</td>\n",
       "      <td>j</td>\n",
       "      <td>o</td>\n",
       "      <td>t</td>\n",
       "      <td>d</td>\n",
       "      <td>d</td>\n",
       "      <td>aa</td>\n",
       "      <td>h</td>\n",
       "      <td>h</td>\n",
       "      <td>...</td>\n",
       "      <td>0</td>\n",
       "      <td>1</td>\n",
       "      <td>0</td>\n",
       "      <td>0</td>\n",
       "      <td>0</td>\n",
       "      <td>0</td>\n",
       "      <td>0</td>\n",
       "      <td>0</td>\n",
       "      <td>0</td>\n",
       "      <td>0</td>\n",
       "    </tr>\n",
       "    <tr>\n",
       "      <th>4206</th>\n",
       "      <td>8412</td>\n",
       "      <td>109.22</td>\n",
       "      <td>ak</td>\n",
       "      <td>v</td>\n",
       "      <td>r</td>\n",
       "      <td>a</td>\n",
       "      <td>d</td>\n",
       "      <td>aa</td>\n",
       "      <td>g</td>\n",
       "      <td>e</td>\n",
       "      <td>...</td>\n",
       "      <td>0</td>\n",
       "      <td>0</td>\n",
       "      <td>1</td>\n",
       "      <td>0</td>\n",
       "      <td>0</td>\n",
       "      <td>0</td>\n",
       "      <td>0</td>\n",
       "      <td>0</td>\n",
       "      <td>0</td>\n",
       "      <td>0</td>\n",
       "    </tr>\n",
       "    <tr>\n",
       "      <th>4207</th>\n",
       "      <td>8415</td>\n",
       "      <td>87.48</td>\n",
       "      <td>al</td>\n",
       "      <td>r</td>\n",
       "      <td>e</td>\n",
       "      <td>f</td>\n",
       "      <td>d</td>\n",
       "      <td>aa</td>\n",
       "      <td>l</td>\n",
       "      <td>u</td>\n",
       "      <td>...</td>\n",
       "      <td>0</td>\n",
       "      <td>0</td>\n",
       "      <td>0</td>\n",
       "      <td>0</td>\n",
       "      <td>0</td>\n",
       "      <td>0</td>\n",
       "      <td>0</td>\n",
       "      <td>0</td>\n",
       "      <td>0</td>\n",
       "      <td>0</td>\n",
       "    </tr>\n",
       "    <tr>\n",
       "      <th>4208</th>\n",
       "      <td>8417</td>\n",
       "      <td>110.85</td>\n",
       "      <td>z</td>\n",
       "      <td>r</td>\n",
       "      <td>ae</td>\n",
       "      <td>c</td>\n",
       "      <td>d</td>\n",
       "      <td>aa</td>\n",
       "      <td>g</td>\n",
       "      <td>w</td>\n",
       "      <td>...</td>\n",
       "      <td>1</td>\n",
       "      <td>0</td>\n",
       "      <td>0</td>\n",
       "      <td>0</td>\n",
       "      <td>0</td>\n",
       "      <td>0</td>\n",
       "      <td>0</td>\n",
       "      <td>0</td>\n",
       "      <td>0</td>\n",
       "      <td>0</td>\n",
       "    </tr>\n",
       "  </tbody>\n",
       "</table>\n",
       "<p>4209 rows × 378 columns</p>\n",
       "</div>"
      ],
      "text/plain": [
       "        ID       y  X0 X1  X2 X3 X4  X5 X6 X8  ...  X375  X376  X377  X378  \\\n",
       "0        0  130.81   k  v  at  a  d   u  j  o  ...     0     0     1     0   \n",
       "1        6   88.53   k  t  av  e  d   y  l  o  ...     1     0     0     0   \n",
       "2        7   76.26  az  w   n  c  d   x  j  x  ...     0     0     0     0   \n",
       "3        9   80.62  az  t   n  f  d   x  l  e  ...     0     0     0     0   \n",
       "4       13   78.02  az  v   n  f  d   h  d  n  ...     0     0     0     0   \n",
       "...    ...     ...  .. ..  .. .. ..  .. .. ..  ...   ...   ...   ...   ...   \n",
       "4204  8405  107.39  ak  s  as  c  d  aa  d  q  ...     1     0     0     0   \n",
       "4205  8406  108.77   j  o   t  d  d  aa  h  h  ...     0     1     0     0   \n",
       "4206  8412  109.22  ak  v   r  a  d  aa  g  e  ...     0     0     1     0   \n",
       "4207  8415   87.48  al  r   e  f  d  aa  l  u  ...     0     0     0     0   \n",
       "4208  8417  110.85   z  r  ae  c  d  aa  g  w  ...     1     0     0     0   \n",
       "\n",
       "      X379  X380  X382  X383  X384  X385  \n",
       "0        0     0     0     0     0     0  \n",
       "1        0     0     0     0     0     0  \n",
       "2        0     0     1     0     0     0  \n",
       "3        0     0     0     0     0     0  \n",
       "4        0     0     0     0     0     0  \n",
       "...    ...   ...   ...   ...   ...   ...  \n",
       "4204     0     0     0     0     0     0  \n",
       "4205     0     0     0     0     0     0  \n",
       "4206     0     0     0     0     0     0  \n",
       "4207     0     0     0     0     0     0  \n",
       "4208     0     0     0     0     0     0  \n",
       "\n",
       "[4209 rows x 378 columns]"
      ]
     },
     "execution_count": 2,
     "metadata": {},
     "output_type": "execute_result"
    }
   ],
   "source": [
    "Train_data = pd.read_csv('train.csv')\n",
    "Train_data"
   ]
  },
  {
   "cell_type": "code",
   "execution_count": 3,
   "id": "971022b3",
   "metadata": {},
   "outputs": [
    {
     "data": {
      "text/html": [
       "<div>\n",
       "<style scoped>\n",
       "    .dataframe tbody tr th:only-of-type {\n",
       "        vertical-align: middle;\n",
       "    }\n",
       "\n",
       "    .dataframe tbody tr th {\n",
       "        vertical-align: top;\n",
       "    }\n",
       "\n",
       "    .dataframe thead th {\n",
       "        text-align: right;\n",
       "    }\n",
       "</style>\n",
       "<table border=\"1\" class=\"dataframe\">\n",
       "  <thead>\n",
       "    <tr style=\"text-align: right;\">\n",
       "      <th></th>\n",
       "      <th>ID</th>\n",
       "      <th>X0</th>\n",
       "      <th>X1</th>\n",
       "      <th>X2</th>\n",
       "      <th>X3</th>\n",
       "      <th>X4</th>\n",
       "      <th>X5</th>\n",
       "      <th>X6</th>\n",
       "      <th>X8</th>\n",
       "      <th>X10</th>\n",
       "      <th>...</th>\n",
       "      <th>X375</th>\n",
       "      <th>X376</th>\n",
       "      <th>X377</th>\n",
       "      <th>X378</th>\n",
       "      <th>X379</th>\n",
       "      <th>X380</th>\n",
       "      <th>X382</th>\n",
       "      <th>X383</th>\n",
       "      <th>X384</th>\n",
       "      <th>X385</th>\n",
       "    </tr>\n",
       "  </thead>\n",
       "  <tbody>\n",
       "    <tr>\n",
       "      <th>0</th>\n",
       "      <td>1</td>\n",
       "      <td>az</td>\n",
       "      <td>v</td>\n",
       "      <td>n</td>\n",
       "      <td>f</td>\n",
       "      <td>d</td>\n",
       "      <td>t</td>\n",
       "      <td>a</td>\n",
       "      <td>w</td>\n",
       "      <td>0</td>\n",
       "      <td>...</td>\n",
       "      <td>0</td>\n",
       "      <td>0</td>\n",
       "      <td>0</td>\n",
       "      <td>1</td>\n",
       "      <td>0</td>\n",
       "      <td>0</td>\n",
       "      <td>0</td>\n",
       "      <td>0</td>\n",
       "      <td>0</td>\n",
       "      <td>0</td>\n",
       "    </tr>\n",
       "    <tr>\n",
       "      <th>1</th>\n",
       "      <td>2</td>\n",
       "      <td>t</td>\n",
       "      <td>b</td>\n",
       "      <td>ai</td>\n",
       "      <td>a</td>\n",
       "      <td>d</td>\n",
       "      <td>b</td>\n",
       "      <td>g</td>\n",
       "      <td>y</td>\n",
       "      <td>0</td>\n",
       "      <td>...</td>\n",
       "      <td>0</td>\n",
       "      <td>0</td>\n",
       "      <td>1</td>\n",
       "      <td>0</td>\n",
       "      <td>0</td>\n",
       "      <td>0</td>\n",
       "      <td>0</td>\n",
       "      <td>0</td>\n",
       "      <td>0</td>\n",
       "      <td>0</td>\n",
       "    </tr>\n",
       "    <tr>\n",
       "      <th>2</th>\n",
       "      <td>3</td>\n",
       "      <td>az</td>\n",
       "      <td>v</td>\n",
       "      <td>as</td>\n",
       "      <td>f</td>\n",
       "      <td>d</td>\n",
       "      <td>a</td>\n",
       "      <td>j</td>\n",
       "      <td>j</td>\n",
       "      <td>0</td>\n",
       "      <td>...</td>\n",
       "      <td>0</td>\n",
       "      <td>0</td>\n",
       "      <td>0</td>\n",
       "      <td>1</td>\n",
       "      <td>0</td>\n",
       "      <td>0</td>\n",
       "      <td>0</td>\n",
       "      <td>0</td>\n",
       "      <td>0</td>\n",
       "      <td>0</td>\n",
       "    </tr>\n",
       "    <tr>\n",
       "      <th>3</th>\n",
       "      <td>4</td>\n",
       "      <td>az</td>\n",
       "      <td>l</td>\n",
       "      <td>n</td>\n",
       "      <td>f</td>\n",
       "      <td>d</td>\n",
       "      <td>z</td>\n",
       "      <td>l</td>\n",
       "      <td>n</td>\n",
       "      <td>0</td>\n",
       "      <td>...</td>\n",
       "      <td>0</td>\n",
       "      <td>0</td>\n",
       "      <td>0</td>\n",
       "      <td>1</td>\n",
       "      <td>0</td>\n",
       "      <td>0</td>\n",
       "      <td>0</td>\n",
       "      <td>0</td>\n",
       "      <td>0</td>\n",
       "      <td>0</td>\n",
       "    </tr>\n",
       "    <tr>\n",
       "      <th>4</th>\n",
       "      <td>5</td>\n",
       "      <td>w</td>\n",
       "      <td>s</td>\n",
       "      <td>as</td>\n",
       "      <td>c</td>\n",
       "      <td>d</td>\n",
       "      <td>y</td>\n",
       "      <td>i</td>\n",
       "      <td>m</td>\n",
       "      <td>0</td>\n",
       "      <td>...</td>\n",
       "      <td>1</td>\n",
       "      <td>0</td>\n",
       "      <td>0</td>\n",
       "      <td>0</td>\n",
       "      <td>0</td>\n",
       "      <td>0</td>\n",
       "      <td>0</td>\n",
       "      <td>0</td>\n",
       "      <td>0</td>\n",
       "      <td>0</td>\n",
       "    </tr>\n",
       "    <tr>\n",
       "      <th>...</th>\n",
       "      <td>...</td>\n",
       "      <td>...</td>\n",
       "      <td>...</td>\n",
       "      <td>...</td>\n",
       "      <td>...</td>\n",
       "      <td>...</td>\n",
       "      <td>...</td>\n",
       "      <td>...</td>\n",
       "      <td>...</td>\n",
       "      <td>...</td>\n",
       "      <td>...</td>\n",
       "      <td>...</td>\n",
       "      <td>...</td>\n",
       "      <td>...</td>\n",
       "      <td>...</td>\n",
       "      <td>...</td>\n",
       "      <td>...</td>\n",
       "      <td>...</td>\n",
       "      <td>...</td>\n",
       "      <td>...</td>\n",
       "      <td>...</td>\n",
       "    </tr>\n",
       "    <tr>\n",
       "      <th>4204</th>\n",
       "      <td>8410</td>\n",
       "      <td>aj</td>\n",
       "      <td>h</td>\n",
       "      <td>as</td>\n",
       "      <td>f</td>\n",
       "      <td>d</td>\n",
       "      <td>aa</td>\n",
       "      <td>j</td>\n",
       "      <td>e</td>\n",
       "      <td>0</td>\n",
       "      <td>...</td>\n",
       "      <td>0</td>\n",
       "      <td>0</td>\n",
       "      <td>0</td>\n",
       "      <td>0</td>\n",
       "      <td>0</td>\n",
       "      <td>0</td>\n",
       "      <td>0</td>\n",
       "      <td>0</td>\n",
       "      <td>0</td>\n",
       "      <td>0</td>\n",
       "    </tr>\n",
       "    <tr>\n",
       "      <th>4205</th>\n",
       "      <td>8411</td>\n",
       "      <td>t</td>\n",
       "      <td>aa</td>\n",
       "      <td>ai</td>\n",
       "      <td>d</td>\n",
       "      <td>d</td>\n",
       "      <td>aa</td>\n",
       "      <td>j</td>\n",
       "      <td>y</td>\n",
       "      <td>0</td>\n",
       "      <td>...</td>\n",
       "      <td>0</td>\n",
       "      <td>1</td>\n",
       "      <td>0</td>\n",
       "      <td>0</td>\n",
       "      <td>0</td>\n",
       "      <td>0</td>\n",
       "      <td>0</td>\n",
       "      <td>0</td>\n",
       "      <td>0</td>\n",
       "      <td>0</td>\n",
       "    </tr>\n",
       "    <tr>\n",
       "      <th>4206</th>\n",
       "      <td>8413</td>\n",
       "      <td>y</td>\n",
       "      <td>v</td>\n",
       "      <td>as</td>\n",
       "      <td>f</td>\n",
       "      <td>d</td>\n",
       "      <td>aa</td>\n",
       "      <td>d</td>\n",
       "      <td>w</td>\n",
       "      <td>0</td>\n",
       "      <td>...</td>\n",
       "      <td>0</td>\n",
       "      <td>0</td>\n",
       "      <td>0</td>\n",
       "      <td>0</td>\n",
       "      <td>0</td>\n",
       "      <td>0</td>\n",
       "      <td>0</td>\n",
       "      <td>0</td>\n",
       "      <td>0</td>\n",
       "      <td>0</td>\n",
       "    </tr>\n",
       "    <tr>\n",
       "      <th>4207</th>\n",
       "      <td>8414</td>\n",
       "      <td>ak</td>\n",
       "      <td>v</td>\n",
       "      <td>as</td>\n",
       "      <td>a</td>\n",
       "      <td>d</td>\n",
       "      <td>aa</td>\n",
       "      <td>c</td>\n",
       "      <td>q</td>\n",
       "      <td>0</td>\n",
       "      <td>...</td>\n",
       "      <td>0</td>\n",
       "      <td>0</td>\n",
       "      <td>1</td>\n",
       "      <td>0</td>\n",
       "      <td>0</td>\n",
       "      <td>0</td>\n",
       "      <td>0</td>\n",
       "      <td>0</td>\n",
       "      <td>0</td>\n",
       "      <td>0</td>\n",
       "    </tr>\n",
       "    <tr>\n",
       "      <th>4208</th>\n",
       "      <td>8416</td>\n",
       "      <td>t</td>\n",
       "      <td>aa</td>\n",
       "      <td>ai</td>\n",
       "      <td>c</td>\n",
       "      <td>d</td>\n",
       "      <td>aa</td>\n",
       "      <td>g</td>\n",
       "      <td>r</td>\n",
       "      <td>0</td>\n",
       "      <td>...</td>\n",
       "      <td>1</td>\n",
       "      <td>0</td>\n",
       "      <td>0</td>\n",
       "      <td>0</td>\n",
       "      <td>0</td>\n",
       "      <td>0</td>\n",
       "      <td>0</td>\n",
       "      <td>0</td>\n",
       "      <td>0</td>\n",
       "      <td>0</td>\n",
       "    </tr>\n",
       "  </tbody>\n",
       "</table>\n",
       "<p>4209 rows × 377 columns</p>\n",
       "</div>"
      ],
      "text/plain": [
       "        ID  X0  X1  X2 X3 X4  X5 X6 X8  X10  ...  X375  X376  X377  X378  \\\n",
       "0        1  az   v   n  f  d   t  a  w    0  ...     0     0     0     1   \n",
       "1        2   t   b  ai  a  d   b  g  y    0  ...     0     0     1     0   \n",
       "2        3  az   v  as  f  d   a  j  j    0  ...     0     0     0     1   \n",
       "3        4  az   l   n  f  d   z  l  n    0  ...     0     0     0     1   \n",
       "4        5   w   s  as  c  d   y  i  m    0  ...     1     0     0     0   \n",
       "...    ...  ..  ..  .. .. ..  .. .. ..  ...  ...   ...   ...   ...   ...   \n",
       "4204  8410  aj   h  as  f  d  aa  j  e    0  ...     0     0     0     0   \n",
       "4205  8411   t  aa  ai  d  d  aa  j  y    0  ...     0     1     0     0   \n",
       "4206  8413   y   v  as  f  d  aa  d  w    0  ...     0     0     0     0   \n",
       "4207  8414  ak   v  as  a  d  aa  c  q    0  ...     0     0     1     0   \n",
       "4208  8416   t  aa  ai  c  d  aa  g  r    0  ...     1     0     0     0   \n",
       "\n",
       "      X379  X380  X382  X383  X384  X385  \n",
       "0        0     0     0     0     0     0  \n",
       "1        0     0     0     0     0     0  \n",
       "2        0     0     0     0     0     0  \n",
       "3        0     0     0     0     0     0  \n",
       "4        0     0     0     0     0     0  \n",
       "...    ...   ...   ...   ...   ...   ...  \n",
       "4204     0     0     0     0     0     0  \n",
       "4205     0     0     0     0     0     0  \n",
       "4206     0     0     0     0     0     0  \n",
       "4207     0     0     0     0     0     0  \n",
       "4208     0     0     0     0     0     0  \n",
       "\n",
       "[4209 rows x 377 columns]"
      ]
     },
     "execution_count": 3,
     "metadata": {},
     "output_type": "execute_result"
    }
   ],
   "source": [
    "Test_data = pd.read_csv('test.csv')\n",
    "Test_data"
   ]
  },
  {
   "cell_type": "code",
   "execution_count": 4,
   "id": "5c996495",
   "metadata": {},
   "outputs": [
    {
     "data": {
      "text/plain": [
       "(4209, 378)"
      ]
     },
     "execution_count": 4,
     "metadata": {},
     "output_type": "execute_result"
    }
   ],
   "source": [
    "Train_data.shape"
   ]
  },
  {
   "cell_type": "code",
   "execution_count": 5,
   "id": "7d6d3cc0",
   "metadata": {},
   "outputs": [
    {
     "data": {
      "text/plain": [
       "1591002"
      ]
     },
     "execution_count": 5,
     "metadata": {},
     "output_type": "execute_result"
    }
   ],
   "source": [
    "Train_data.size"
   ]
  },
  {
   "cell_type": "code",
   "execution_count": 6,
   "id": "5d4a0219",
   "metadata": {},
   "outputs": [
    {
     "name": "stdout",
     "output_type": "stream",
     "text": [
      "<class 'pandas.core.frame.DataFrame'>\n",
      "RangeIndex: 4209 entries, 0 to 4208\n",
      "Columns: 378 entries, ID to X385\n",
      "dtypes: float64(1), int64(369), object(8)\n",
      "memory usage: 12.1+ MB\n"
     ]
    }
   ],
   "source": [
    "Train_data.info()"
   ]
  },
  {
   "cell_type": "code",
   "execution_count": 7,
   "id": "debc2391",
   "metadata": {},
   "outputs": [
    {
     "data": {
      "text/plain": [
       "(4209, 377)"
      ]
     },
     "execution_count": 7,
     "metadata": {},
     "output_type": "execute_result"
    }
   ],
   "source": [
    "Test_data.shape"
   ]
  },
  {
   "cell_type": "code",
   "execution_count": 8,
   "id": "ceab565e",
   "metadata": {},
   "outputs": [
    {
     "data": {
      "text/plain": [
       "1586793"
      ]
     },
     "execution_count": 8,
     "metadata": {},
     "output_type": "execute_result"
    }
   ],
   "source": [
    "Test_data.size"
   ]
  },
  {
   "cell_type": "code",
   "execution_count": 9,
   "id": "1ad44109",
   "metadata": {},
   "outputs": [
    {
     "name": "stdout",
     "output_type": "stream",
     "text": [
      "<class 'pandas.core.frame.DataFrame'>\n",
      "RangeIndex: 4209 entries, 0 to 4208\n",
      "Columns: 377 entries, ID to X385\n",
      "dtypes: int64(369), object(8)\n",
      "memory usage: 12.1+ MB\n"
     ]
    }
   ],
   "source": [
    "Test_data.info()"
   ]
  },
  {
   "cell_type": "markdown",
   "id": "9a11149f",
   "metadata": {},
   "source": [
    "# Analysis Task"
   ]
  },
  {
   "cell_type": "markdown",
   "id": "db0ef14d",
   "metadata": {},
   "source": [
    "### Task 1 : To find columns, the varience is equal to zero, then you need to remove those variables."
   ]
  },
  {
   "cell_type": "code",
   "execution_count": 10,
   "id": "4f20c3bd",
   "metadata": {},
   "outputs": [
    {
     "name": "stderr",
     "output_type": "stream",
     "text": [
      "C:\\Users\\Shriram\\AppData\\Local\\Temp/ipykernel_4692/3104251802.py:2: FutureWarning: Dropping of nuisance columns in DataFrame reductions (with 'numeric_only=None') is deprecated; in a future version this will raise TypeError.  Select only valid columns before calling the reduction.\n",
      "  train_original_var = pd.DataFrame(Train_data.var(axis=0), columns=['Variance'])\n"
     ]
    },
    {
     "data": {
      "text/html": [
       "<div>\n",
       "<style scoped>\n",
       "    .dataframe tbody tr th:only-of-type {\n",
       "        vertical-align: middle;\n",
       "    }\n",
       "\n",
       "    .dataframe tbody tr th {\n",
       "        vertical-align: top;\n",
       "    }\n",
       "\n",
       "    .dataframe thead th {\n",
       "        text-align: right;\n",
       "    }\n",
       "</style>\n",
       "<table border=\"1\" class=\"dataframe\">\n",
       "  <thead>\n",
       "    <tr style=\"text-align: right;\">\n",
       "      <th></th>\n",
       "      <th>Variance</th>\n",
       "    </tr>\n",
       "  </thead>\n",
       "  <tbody>\n",
       "    <tr>\n",
       "      <th>ID</th>\n",
       "      <td>5.941936e+06</td>\n",
       "    </tr>\n",
       "    <tr>\n",
       "      <th>y</th>\n",
       "      <td>1.607667e+02</td>\n",
       "    </tr>\n",
       "    <tr>\n",
       "      <th>X10</th>\n",
       "      <td>1.313092e-02</td>\n",
       "    </tr>\n",
       "    <tr>\n",
       "      <th>X11</th>\n",
       "      <td>0.000000e+00</td>\n",
       "    </tr>\n",
       "    <tr>\n",
       "      <th>X12</th>\n",
       "      <td>6.945713e-02</td>\n",
       "    </tr>\n",
       "    <tr>\n",
       "      <th>...</th>\n",
       "      <td>...</td>\n",
       "    </tr>\n",
       "    <tr>\n",
       "      <th>X380</th>\n",
       "      <td>8.014579e-03</td>\n",
       "    </tr>\n",
       "    <tr>\n",
       "      <th>X382</th>\n",
       "      <td>7.546747e-03</td>\n",
       "    </tr>\n",
       "    <tr>\n",
       "      <th>X383</th>\n",
       "      <td>1.660732e-03</td>\n",
       "    </tr>\n",
       "    <tr>\n",
       "      <th>X384</th>\n",
       "      <td>4.750593e-04</td>\n",
       "    </tr>\n",
       "    <tr>\n",
       "      <th>X385</th>\n",
       "      <td>1.423823e-03</td>\n",
       "    </tr>\n",
       "  </tbody>\n",
       "</table>\n",
       "<p>370 rows × 1 columns</p>\n",
       "</div>"
      ],
      "text/plain": [
       "          Variance\n",
       "ID    5.941936e+06\n",
       "y     1.607667e+02\n",
       "X10   1.313092e-02\n",
       "X11   0.000000e+00\n",
       "X12   6.945713e-02\n",
       "...            ...\n",
       "X380  8.014579e-03\n",
       "X382  7.546747e-03\n",
       "X383  1.660732e-03\n",
       "X384  4.750593e-04\n",
       "X385  1.423823e-03\n",
       "\n",
       "[370 rows x 1 columns]"
      ]
     },
     "execution_count": 10,
     "metadata": {},
     "output_type": "execute_result"
    }
   ],
   "source": [
    "# First, check the original varience of all the features in the train dataset and store it to new object.\n",
    "train_original_var = pd.DataFrame(Train_data.var(axis=0), columns=['Variance'])\n",
    "train_original_var"
   ]
  },
  {
   "cell_type": "code",
   "execution_count": 11,
   "id": "1db8fa34",
   "metadata": {},
   "outputs": [],
   "source": [
    "# Second, define a function to remove the features of train dataset with zero variance.\n",
    "def features_zero_var(df):\n",
    "    df_original_var = pd.DataFrame(Train_data.var(axis=0), columns=['Variance'])\n",
    "    return((df_original_var[df_original_var.Variance==0]))"
   ]
  },
  {
   "cell_type": "code",
   "execution_count": 12,
   "id": "a2fddd8f",
   "metadata": {},
   "outputs": [
    {
     "name": "stderr",
     "output_type": "stream",
     "text": [
      "C:\\Users\\Shriram\\AppData\\Local\\Temp/ipykernel_4692/884013545.py:3: FutureWarning: Dropping of nuisance columns in DataFrame reductions (with 'numeric_only=None') is deprecated; in a future version this will raise TypeError.  Select only valid columns before calling the reduction.\n",
      "  df_original_var = pd.DataFrame(Train_data.var(axis=0), columns=['Variance'])\n"
     ]
    },
    {
     "data": {
      "text/html": [
       "<div>\n",
       "<style scoped>\n",
       "    .dataframe tbody tr th:only-of-type {\n",
       "        vertical-align: middle;\n",
       "    }\n",
       "\n",
       "    .dataframe tbody tr th {\n",
       "        vertical-align: top;\n",
       "    }\n",
       "\n",
       "    .dataframe thead th {\n",
       "        text-align: right;\n",
       "    }\n",
       "</style>\n",
       "<table border=\"1\" class=\"dataframe\">\n",
       "  <thead>\n",
       "    <tr style=\"text-align: right;\">\n",
       "      <th></th>\n",
       "      <th>Variance</th>\n",
       "    </tr>\n",
       "  </thead>\n",
       "  <tbody>\n",
       "    <tr>\n",
       "      <th>X11</th>\n",
       "      <td>0.0</td>\n",
       "    </tr>\n",
       "    <tr>\n",
       "      <th>X93</th>\n",
       "      <td>0.0</td>\n",
       "    </tr>\n",
       "    <tr>\n",
       "      <th>X107</th>\n",
       "      <td>0.0</td>\n",
       "    </tr>\n",
       "    <tr>\n",
       "      <th>X233</th>\n",
       "      <td>0.0</td>\n",
       "    </tr>\n",
       "    <tr>\n",
       "      <th>X235</th>\n",
       "      <td>0.0</td>\n",
       "    </tr>\n",
       "    <tr>\n",
       "      <th>X268</th>\n",
       "      <td>0.0</td>\n",
       "    </tr>\n",
       "    <tr>\n",
       "      <th>X289</th>\n",
       "      <td>0.0</td>\n",
       "    </tr>\n",
       "    <tr>\n",
       "      <th>X290</th>\n",
       "      <td>0.0</td>\n",
       "    </tr>\n",
       "    <tr>\n",
       "      <th>X293</th>\n",
       "      <td>0.0</td>\n",
       "    </tr>\n",
       "    <tr>\n",
       "      <th>X297</th>\n",
       "      <td>0.0</td>\n",
       "    </tr>\n",
       "    <tr>\n",
       "      <th>X330</th>\n",
       "      <td>0.0</td>\n",
       "    </tr>\n",
       "    <tr>\n",
       "      <th>X347</th>\n",
       "      <td>0.0</td>\n",
       "    </tr>\n",
       "  </tbody>\n",
       "</table>\n",
       "</div>"
      ],
      "text/plain": [
       "      Variance\n",
       "X11        0.0\n",
       "X93        0.0\n",
       "X107       0.0\n",
       "X233       0.0\n",
       "X235       0.0\n",
       "X268       0.0\n",
       "X289       0.0\n",
       "X290       0.0\n",
       "X293       0.0\n",
       "X297       0.0\n",
       "X330       0.0\n",
       "X347       0.0"
      ]
     },
     "execution_count": 12,
     "metadata": {},
     "output_type": "execute_result"
    }
   ],
   "source": [
    "# Call the function to return the train dataset features having zero varience.\n",
    "features_zero_var(Train_data)"
   ]
  },
  {
   "cell_type": "markdown",
   "id": "4b281d43",
   "metadata": {},
   "source": [
    "#### Above listed features have zero variance."
   ]
  },
  {
   "cell_type": "code",
   "execution_count": 13,
   "id": "fda4dca9",
   "metadata": {},
   "outputs": [
    {
     "data": {
      "text/html": [
       "<div>\n",
       "<style scoped>\n",
       "    .dataframe tbody tr th:only-of-type {\n",
       "        vertical-align: middle;\n",
       "    }\n",
       "\n",
       "    .dataframe tbody tr th {\n",
       "        vertical-align: top;\n",
       "    }\n",
       "\n",
       "    .dataframe thead th {\n",
       "        text-align: right;\n",
       "    }\n",
       "</style>\n",
       "<table border=\"1\" class=\"dataframe\">\n",
       "  <thead>\n",
       "    <tr style=\"text-align: right;\">\n",
       "      <th></th>\n",
       "      <th>ID</th>\n",
       "      <th>y</th>\n",
       "      <th>X0</th>\n",
       "      <th>X1</th>\n",
       "      <th>X2</th>\n",
       "      <th>X3</th>\n",
       "      <th>X4</th>\n",
       "      <th>X5</th>\n",
       "      <th>X6</th>\n",
       "      <th>X8</th>\n",
       "      <th>...</th>\n",
       "      <th>X375</th>\n",
       "      <th>X376</th>\n",
       "      <th>X377</th>\n",
       "      <th>X378</th>\n",
       "      <th>X379</th>\n",
       "      <th>X380</th>\n",
       "      <th>X382</th>\n",
       "      <th>X383</th>\n",
       "      <th>X384</th>\n",
       "      <th>X385</th>\n",
       "    </tr>\n",
       "  </thead>\n",
       "  <tbody>\n",
       "    <tr>\n",
       "      <th>0</th>\n",
       "      <td>0</td>\n",
       "      <td>130.81</td>\n",
       "      <td>k</td>\n",
       "      <td>v</td>\n",
       "      <td>at</td>\n",
       "      <td>a</td>\n",
       "      <td>d</td>\n",
       "      <td>u</td>\n",
       "      <td>j</td>\n",
       "      <td>o</td>\n",
       "      <td>...</td>\n",
       "      <td>0</td>\n",
       "      <td>0</td>\n",
       "      <td>1</td>\n",
       "      <td>0</td>\n",
       "      <td>0</td>\n",
       "      <td>0</td>\n",
       "      <td>0</td>\n",
       "      <td>0</td>\n",
       "      <td>0</td>\n",
       "      <td>0</td>\n",
       "    </tr>\n",
       "    <tr>\n",
       "      <th>1</th>\n",
       "      <td>6</td>\n",
       "      <td>88.53</td>\n",
       "      <td>k</td>\n",
       "      <td>t</td>\n",
       "      <td>av</td>\n",
       "      <td>e</td>\n",
       "      <td>d</td>\n",
       "      <td>y</td>\n",
       "      <td>l</td>\n",
       "      <td>o</td>\n",
       "      <td>...</td>\n",
       "      <td>1</td>\n",
       "      <td>0</td>\n",
       "      <td>0</td>\n",
       "      <td>0</td>\n",
       "      <td>0</td>\n",
       "      <td>0</td>\n",
       "      <td>0</td>\n",
       "      <td>0</td>\n",
       "      <td>0</td>\n",
       "      <td>0</td>\n",
       "    </tr>\n",
       "    <tr>\n",
       "      <th>2</th>\n",
       "      <td>7</td>\n",
       "      <td>76.26</td>\n",
       "      <td>az</td>\n",
       "      <td>w</td>\n",
       "      <td>n</td>\n",
       "      <td>c</td>\n",
       "      <td>d</td>\n",
       "      <td>x</td>\n",
       "      <td>j</td>\n",
       "      <td>x</td>\n",
       "      <td>...</td>\n",
       "      <td>0</td>\n",
       "      <td>0</td>\n",
       "      <td>0</td>\n",
       "      <td>0</td>\n",
       "      <td>0</td>\n",
       "      <td>0</td>\n",
       "      <td>1</td>\n",
       "      <td>0</td>\n",
       "      <td>0</td>\n",
       "      <td>0</td>\n",
       "    </tr>\n",
       "    <tr>\n",
       "      <th>3</th>\n",
       "      <td>9</td>\n",
       "      <td>80.62</td>\n",
       "      <td>az</td>\n",
       "      <td>t</td>\n",
       "      <td>n</td>\n",
       "      <td>f</td>\n",
       "      <td>d</td>\n",
       "      <td>x</td>\n",
       "      <td>l</td>\n",
       "      <td>e</td>\n",
       "      <td>...</td>\n",
       "      <td>0</td>\n",
       "      <td>0</td>\n",
       "      <td>0</td>\n",
       "      <td>0</td>\n",
       "      <td>0</td>\n",
       "      <td>0</td>\n",
       "      <td>0</td>\n",
       "      <td>0</td>\n",
       "      <td>0</td>\n",
       "      <td>0</td>\n",
       "    </tr>\n",
       "    <tr>\n",
       "      <th>4</th>\n",
       "      <td>13</td>\n",
       "      <td>78.02</td>\n",
       "      <td>az</td>\n",
       "      <td>v</td>\n",
       "      <td>n</td>\n",
       "      <td>f</td>\n",
       "      <td>d</td>\n",
       "      <td>h</td>\n",
       "      <td>d</td>\n",
       "      <td>n</td>\n",
       "      <td>...</td>\n",
       "      <td>0</td>\n",
       "      <td>0</td>\n",
       "      <td>0</td>\n",
       "      <td>0</td>\n",
       "      <td>0</td>\n",
       "      <td>0</td>\n",
       "      <td>0</td>\n",
       "      <td>0</td>\n",
       "      <td>0</td>\n",
       "      <td>0</td>\n",
       "    </tr>\n",
       "  </tbody>\n",
       "</table>\n",
       "<p>5 rows × 366 columns</p>\n",
       "</div>"
      ],
      "text/plain": [
       "   ID       y  X0 X1  X2 X3 X4 X5 X6 X8  ...  X375  X376  X377  X378  X379  \\\n",
       "0   0  130.81   k  v  at  a  d  u  j  o  ...     0     0     1     0     0   \n",
       "1   6   88.53   k  t  av  e  d  y  l  o  ...     1     0     0     0     0   \n",
       "2   7   76.26  az  w   n  c  d  x  j  x  ...     0     0     0     0     0   \n",
       "3   9   80.62  az  t   n  f  d  x  l  e  ...     0     0     0     0     0   \n",
       "4  13   78.02  az  v   n  f  d  h  d  n  ...     0     0     0     0     0   \n",
       "\n",
       "   X380  X382  X383  X384  X385  \n",
       "0     0     0     0     0     0  \n",
       "1     0     0     0     0     0  \n",
       "2     0     1     0     0     0  \n",
       "3     0     0     0     0     0  \n",
       "4     0     0     0     0     0  \n",
       "\n",
       "[5 rows x 366 columns]"
      ]
     },
     "execution_count": 13,
     "metadata": {},
     "output_type": "execute_result"
    }
   ],
   "source": [
    "# Remove the features with 0 varience from train dataset and store the data in the new object.\n",
    "train_original_modified = Train_data.drop(columns=train_original_var[train_original_var.Variance==0].index)\n",
    "train_original_modified.head()"
   ]
  },
  {
   "cell_type": "code",
   "execution_count": 14,
   "id": "b8ced3fe",
   "metadata": {},
   "outputs": [
    {
     "name": "stdout",
     "output_type": "stream",
     "text": [
      "Shape of original train dataset is: (4209, 378)\n",
      "\n",
      "Shape of modified train dataset after removing features having zero variance is: (4209, 366)\n"
     ]
    }
   ],
   "source": [
    "# Print the original and modified shape of the train dataset\n",
    "print('Shape of original train dataset is:' , Train_data.shape)\n",
    "print('\\nShape of modified train dataset after removing features having zero variance is:' , train_original_modified.shape)"
   ]
  },
  {
   "cell_type": "markdown",
   "id": "7fe831ad",
   "metadata": {},
   "source": [
    "#### The modified train dataset contains 366 features, which means the 12 features with zero variance from the original dataset is removed."
   ]
  },
  {
   "cell_type": "code",
   "execution_count": 15,
   "id": "cdb381d2",
   "metadata": {},
   "outputs": [],
   "source": [
    "# Save the modified train dataset\n",
    "train_original_modified.to_csv('train_original_modified.csv', index=False)"
   ]
  },
  {
   "cell_type": "markdown",
   "id": "cb36cd69",
   "metadata": {},
   "source": [
    "### Similarly remove the zero variance features from the test dataset "
   ]
  },
  {
   "cell_type": "code",
   "execution_count": 16,
   "id": "3a55d4a2",
   "metadata": {},
   "outputs": [
    {
     "name": "stderr",
     "output_type": "stream",
     "text": [
      "C:\\Users\\Shriram\\AppData\\Local\\Temp/ipykernel_4692/365460518.py:2: FutureWarning: Dropping of nuisance columns in DataFrame reductions (with 'numeric_only=None') is deprecated; in a future version this will raise TypeError.  Select only valid columns before calling the reduction.\n",
      "  test_original_var = pd.DataFrame(Test_data.var(axis=0), columns=['Variance'])\n"
     ]
    },
    {
     "data": {
      "text/html": [
       "<div>\n",
       "<style scoped>\n",
       "    .dataframe tbody tr th:only-of-type {\n",
       "        vertical-align: middle;\n",
       "    }\n",
       "\n",
       "    .dataframe tbody tr th {\n",
       "        vertical-align: top;\n",
       "    }\n",
       "\n",
       "    .dataframe thead th {\n",
       "        text-align: right;\n",
       "    }\n",
       "</style>\n",
       "<table border=\"1\" class=\"dataframe\">\n",
       "  <thead>\n",
       "    <tr style=\"text-align: right;\">\n",
       "      <th></th>\n",
       "      <th>Variance</th>\n",
       "    </tr>\n",
       "  </thead>\n",
       "  <tbody>\n",
       "    <tr>\n",
       "      <th>ID</th>\n",
       "      <td>5.871311e+06</td>\n",
       "    </tr>\n",
       "    <tr>\n",
       "      <th>X10</th>\n",
       "      <td>1.865006e-02</td>\n",
       "    </tr>\n",
       "    <tr>\n",
       "      <th>X11</th>\n",
       "      <td>2.375861e-04</td>\n",
       "    </tr>\n",
       "    <tr>\n",
       "      <th>X12</th>\n",
       "      <td>6.885074e-02</td>\n",
       "    </tr>\n",
       "    <tr>\n",
       "      <th>X13</th>\n",
       "      <td>5.734498e-02</td>\n",
       "    </tr>\n",
       "    <tr>\n",
       "      <th>...</th>\n",
       "      <td>...</td>\n",
       "    </tr>\n",
       "    <tr>\n",
       "      <th>X380</th>\n",
       "      <td>8.014579e-03</td>\n",
       "    </tr>\n",
       "    <tr>\n",
       "      <th>X382</th>\n",
       "      <td>8.715481e-03</td>\n",
       "    </tr>\n",
       "    <tr>\n",
       "      <th>X383</th>\n",
       "      <td>4.750593e-04</td>\n",
       "    </tr>\n",
       "    <tr>\n",
       "      <th>X384</th>\n",
       "      <td>7.124196e-04</td>\n",
       "    </tr>\n",
       "    <tr>\n",
       "      <th>X385</th>\n",
       "      <td>1.660732e-03</td>\n",
       "    </tr>\n",
       "  </tbody>\n",
       "</table>\n",
       "<p>369 rows × 1 columns</p>\n",
       "</div>"
      ],
      "text/plain": [
       "          Variance\n",
       "ID    5.871311e+06\n",
       "X10   1.865006e-02\n",
       "X11   2.375861e-04\n",
       "X12   6.885074e-02\n",
       "X13   5.734498e-02\n",
       "...            ...\n",
       "X380  8.014579e-03\n",
       "X382  8.715481e-03\n",
       "X383  4.750593e-04\n",
       "X384  7.124196e-04\n",
       "X385  1.660732e-03\n",
       "\n",
       "[369 rows x 1 columns]"
      ]
     },
     "execution_count": 16,
     "metadata": {},
     "output_type": "execute_result"
    }
   ],
   "source": [
    "# First, check the original varience of all the features in the train dataset and store it to new object.\n",
    "test_original_var = pd.DataFrame(Test_data.var(axis=0), columns=['Variance'])\n",
    "test_original_var"
   ]
  },
  {
   "cell_type": "code",
   "execution_count": 17,
   "id": "832f9aa9",
   "metadata": {},
   "outputs": [],
   "source": [
    "# Second, define a function to remove the features of train dataset with zero variance.\n",
    "def features_zero_var(df):\n",
    "    df_original_var = pd.DataFrame(Test_data.var(axis=0), columns=['Variance'])\n",
    "    return((df_original_var[df_original_var.Variance==0]))"
   ]
  },
  {
   "cell_type": "code",
   "execution_count": 18,
   "id": "b62ec6fa",
   "metadata": {},
   "outputs": [
    {
     "name": "stderr",
     "output_type": "stream",
     "text": [
      "C:\\Users\\Shriram\\AppData\\Local\\Temp/ipykernel_4692/2784323263.py:3: FutureWarning: Dropping of nuisance columns in DataFrame reductions (with 'numeric_only=None') is deprecated; in a future version this will raise TypeError.  Select only valid columns before calling the reduction.\n",
      "  df_original_var = pd.DataFrame(Test_data.var(axis=0), columns=['Variance'])\n"
     ]
    },
    {
     "data": {
      "text/html": [
       "<div>\n",
       "<style scoped>\n",
       "    .dataframe tbody tr th:only-of-type {\n",
       "        vertical-align: middle;\n",
       "    }\n",
       "\n",
       "    .dataframe tbody tr th {\n",
       "        vertical-align: top;\n",
       "    }\n",
       "\n",
       "    .dataframe thead th {\n",
       "        text-align: right;\n",
       "    }\n",
       "</style>\n",
       "<table border=\"1\" class=\"dataframe\">\n",
       "  <thead>\n",
       "    <tr style=\"text-align: right;\">\n",
       "      <th></th>\n",
       "      <th>Variance</th>\n",
       "    </tr>\n",
       "  </thead>\n",
       "  <tbody>\n",
       "    <tr>\n",
       "      <th>X257</th>\n",
       "      <td>0.0</td>\n",
       "    </tr>\n",
       "    <tr>\n",
       "      <th>X258</th>\n",
       "      <td>0.0</td>\n",
       "    </tr>\n",
       "    <tr>\n",
       "      <th>X295</th>\n",
       "      <td>0.0</td>\n",
       "    </tr>\n",
       "    <tr>\n",
       "      <th>X296</th>\n",
       "      <td>0.0</td>\n",
       "    </tr>\n",
       "    <tr>\n",
       "      <th>X369</th>\n",
       "      <td>0.0</td>\n",
       "    </tr>\n",
       "  </tbody>\n",
       "</table>\n",
       "</div>"
      ],
      "text/plain": [
       "      Variance\n",
       "X257       0.0\n",
       "X258       0.0\n",
       "X295       0.0\n",
       "X296       0.0\n",
       "X369       0.0"
      ]
     },
     "execution_count": 18,
     "metadata": {},
     "output_type": "execute_result"
    }
   ],
   "source": [
    "# Call the function to return the train dataset features having zero varience.\n",
    "features_zero_var(Test_data)"
   ]
  },
  {
   "cell_type": "markdown",
   "id": "04fbd0dd",
   "metadata": {},
   "source": [
    "###### Above listed features have zero variance."
   ]
  },
  {
   "cell_type": "markdown",
   "id": "714afb0e",
   "metadata": {},
   "source": [
    "###### However, since test dataset is not considered for training and only used for testing, we can remove the same features of train dataset in the test dataset as well.\n",
    " This will ensure the same size and shape of the train ane test dataset"
   ]
  },
  {
   "cell_type": "code",
   "execution_count": 19,
   "id": "60ab2b34",
   "metadata": {},
   "outputs": [],
   "source": [
    "# In test dataset, remove the same features of train dataset having 0 variance\n",
    "test_original_modified = Test_data.drop(columns=['X11','X93','X107','X233','X235','X268','X289','X290','X293','X297','X330','X347'])"
   ]
  },
  {
   "cell_type": "code",
   "execution_count": 20,
   "id": "dd14ae81",
   "metadata": {},
   "outputs": [
    {
     "data": {
      "text/html": [
       "<div>\n",
       "<style scoped>\n",
       "    .dataframe tbody tr th:only-of-type {\n",
       "        vertical-align: middle;\n",
       "    }\n",
       "\n",
       "    .dataframe tbody tr th {\n",
       "        vertical-align: top;\n",
       "    }\n",
       "\n",
       "    .dataframe thead th {\n",
       "        text-align: right;\n",
       "    }\n",
       "</style>\n",
       "<table border=\"1\" class=\"dataframe\">\n",
       "  <thead>\n",
       "    <tr style=\"text-align: right;\">\n",
       "      <th></th>\n",
       "      <th>ID</th>\n",
       "      <th>X0</th>\n",
       "      <th>X1</th>\n",
       "      <th>X2</th>\n",
       "      <th>X3</th>\n",
       "      <th>X4</th>\n",
       "      <th>X5</th>\n",
       "      <th>X6</th>\n",
       "      <th>X8</th>\n",
       "      <th>X10</th>\n",
       "      <th>...</th>\n",
       "      <th>X375</th>\n",
       "      <th>X376</th>\n",
       "      <th>X377</th>\n",
       "      <th>X378</th>\n",
       "      <th>X379</th>\n",
       "      <th>X380</th>\n",
       "      <th>X382</th>\n",
       "      <th>X383</th>\n",
       "      <th>X384</th>\n",
       "      <th>X385</th>\n",
       "    </tr>\n",
       "  </thead>\n",
       "  <tbody>\n",
       "    <tr>\n",
       "      <th>0</th>\n",
       "      <td>1</td>\n",
       "      <td>az</td>\n",
       "      <td>v</td>\n",
       "      <td>n</td>\n",
       "      <td>f</td>\n",
       "      <td>d</td>\n",
       "      <td>t</td>\n",
       "      <td>a</td>\n",
       "      <td>w</td>\n",
       "      <td>0</td>\n",
       "      <td>...</td>\n",
       "      <td>0</td>\n",
       "      <td>0</td>\n",
       "      <td>0</td>\n",
       "      <td>1</td>\n",
       "      <td>0</td>\n",
       "      <td>0</td>\n",
       "      <td>0</td>\n",
       "      <td>0</td>\n",
       "      <td>0</td>\n",
       "      <td>0</td>\n",
       "    </tr>\n",
       "    <tr>\n",
       "      <th>1</th>\n",
       "      <td>2</td>\n",
       "      <td>t</td>\n",
       "      <td>b</td>\n",
       "      <td>ai</td>\n",
       "      <td>a</td>\n",
       "      <td>d</td>\n",
       "      <td>b</td>\n",
       "      <td>g</td>\n",
       "      <td>y</td>\n",
       "      <td>0</td>\n",
       "      <td>...</td>\n",
       "      <td>0</td>\n",
       "      <td>0</td>\n",
       "      <td>1</td>\n",
       "      <td>0</td>\n",
       "      <td>0</td>\n",
       "      <td>0</td>\n",
       "      <td>0</td>\n",
       "      <td>0</td>\n",
       "      <td>0</td>\n",
       "      <td>0</td>\n",
       "    </tr>\n",
       "    <tr>\n",
       "      <th>2</th>\n",
       "      <td>3</td>\n",
       "      <td>az</td>\n",
       "      <td>v</td>\n",
       "      <td>as</td>\n",
       "      <td>f</td>\n",
       "      <td>d</td>\n",
       "      <td>a</td>\n",
       "      <td>j</td>\n",
       "      <td>j</td>\n",
       "      <td>0</td>\n",
       "      <td>...</td>\n",
       "      <td>0</td>\n",
       "      <td>0</td>\n",
       "      <td>0</td>\n",
       "      <td>1</td>\n",
       "      <td>0</td>\n",
       "      <td>0</td>\n",
       "      <td>0</td>\n",
       "      <td>0</td>\n",
       "      <td>0</td>\n",
       "      <td>0</td>\n",
       "    </tr>\n",
       "    <tr>\n",
       "      <th>3</th>\n",
       "      <td>4</td>\n",
       "      <td>az</td>\n",
       "      <td>l</td>\n",
       "      <td>n</td>\n",
       "      <td>f</td>\n",
       "      <td>d</td>\n",
       "      <td>z</td>\n",
       "      <td>l</td>\n",
       "      <td>n</td>\n",
       "      <td>0</td>\n",
       "      <td>...</td>\n",
       "      <td>0</td>\n",
       "      <td>0</td>\n",
       "      <td>0</td>\n",
       "      <td>1</td>\n",
       "      <td>0</td>\n",
       "      <td>0</td>\n",
       "      <td>0</td>\n",
       "      <td>0</td>\n",
       "      <td>0</td>\n",
       "      <td>0</td>\n",
       "    </tr>\n",
       "    <tr>\n",
       "      <th>4</th>\n",
       "      <td>5</td>\n",
       "      <td>w</td>\n",
       "      <td>s</td>\n",
       "      <td>as</td>\n",
       "      <td>c</td>\n",
       "      <td>d</td>\n",
       "      <td>y</td>\n",
       "      <td>i</td>\n",
       "      <td>m</td>\n",
       "      <td>0</td>\n",
       "      <td>...</td>\n",
       "      <td>1</td>\n",
       "      <td>0</td>\n",
       "      <td>0</td>\n",
       "      <td>0</td>\n",
       "      <td>0</td>\n",
       "      <td>0</td>\n",
       "      <td>0</td>\n",
       "      <td>0</td>\n",
       "      <td>0</td>\n",
       "      <td>0</td>\n",
       "    </tr>\n",
       "  </tbody>\n",
       "</table>\n",
       "<p>5 rows × 365 columns</p>\n",
       "</div>"
      ],
      "text/plain": [
       "   ID  X0 X1  X2 X3 X4 X5 X6 X8  X10  ...  X375  X376  X377  X378  X379  X380  \\\n",
       "0   1  az  v   n  f  d  t  a  w    0  ...     0     0     0     1     0     0   \n",
       "1   2   t  b  ai  a  d  b  g  y    0  ...     0     0     1     0     0     0   \n",
       "2   3  az  v  as  f  d  a  j  j    0  ...     0     0     0     1     0     0   \n",
       "3   4  az  l   n  f  d  z  l  n    0  ...     0     0     0     1     0     0   \n",
       "4   5   w  s  as  c  d  y  i  m    0  ...     1     0     0     0     0     0   \n",
       "\n",
       "   X382  X383  X384  X385  \n",
       "0     0     0     0     0  \n",
       "1     0     0     0     0  \n",
       "2     0     0     0     0  \n",
       "3     0     0     0     0  \n",
       "4     0     0     0     0  \n",
       "\n",
       "[5 rows x 365 columns]"
      ]
     },
     "execution_count": 20,
     "metadata": {},
     "output_type": "execute_result"
    }
   ],
   "source": [
    "# Display the modified test dataset after removing the features having zero variance\n",
    "test_original_modified.head()"
   ]
  },
  {
   "cell_type": "code",
   "execution_count": 21,
   "id": "7c1a8e5a",
   "metadata": {},
   "outputs": [
    {
     "name": "stdout",
     "output_type": "stream",
     "text": [
      "Shape of original test dataset is: (4209, 377)\n",
      "\n",
      "Shape of modified test dataset after removing features having zero variance is: (4209, 365)\n"
     ]
    }
   ],
   "source": [
    "# Print the original and modified shape of the train dataset\n",
    "print('Shape of original test dataset is:' , Test_data.shape)\n",
    "print('\\nShape of modified test dataset after removing features having zero variance is:' , test_original_modified.shape)"
   ]
  },
  {
   "cell_type": "markdown",
   "id": "4274db70",
   "metadata": {},
   "source": [
    "#### The modified test dataset contains 372 features, which means the 5 features with zero variance from the original dataset is removed."
   ]
  },
  {
   "cell_type": "markdown",
   "id": "3b35becf",
   "metadata": {},
   "source": [
    "### Task 2 : To cheack for null and unique values for test and train sets."
   ]
  },
  {
   "cell_type": "code",
   "execution_count": 22,
   "id": "b64900c5",
   "metadata": {},
   "outputs": [
    {
     "name": "stdout",
     "output_type": "stream",
     "text": [
      "The sum of null values in the train dataset is: 0\n"
     ]
    }
   ],
   "source": [
    "# Check the null values in the train dataset \n",
    "print('The sum of null values in the train dataset is:' , train_original_modified.isnull().any().sum())"
   ]
  },
  {
   "cell_type": "markdown",
   "id": "103ea3cd",
   "metadata": {},
   "source": [
    "#### There are no null values in the train dataset."
   ]
  },
  {
   "cell_type": "code",
   "execution_count": 23,
   "id": "0d462561",
   "metadata": {},
   "outputs": [],
   "source": [
    "# Check the unique values in the train dataset\n",
    "# unque() function includes the missing value\n",
    "# nunique() function excludes the missing value as the default parameter is dropna=True\n",
    "# Since there are no missing values in the train and test dataset, we can use nunique()"
   ]
  },
  {
   "cell_type": "code",
   "execution_count": 24,
   "id": "68301459",
   "metadata": {},
   "outputs": [
    {
     "data": {
      "text/html": [
       "<div>\n",
       "<style scoped>\n",
       "    .dataframe tbody tr th:only-of-type {\n",
       "        vertical-align: middle;\n",
       "    }\n",
       "\n",
       "    .dataframe tbody tr th {\n",
       "        vertical-align: top;\n",
       "    }\n",
       "\n",
       "    .dataframe thead th {\n",
       "        text-align: right;\n",
       "    }\n",
       "</style>\n",
       "<table border=\"1\" class=\"dataframe\">\n",
       "  <thead>\n",
       "    <tr style=\"text-align: right;\">\n",
       "      <th></th>\n",
       "      <th>Unique_Values</th>\n",
       "    </tr>\n",
       "  </thead>\n",
       "  <tbody>\n",
       "    <tr>\n",
       "      <th>ID</th>\n",
       "      <td>4209</td>\n",
       "    </tr>\n",
       "    <tr>\n",
       "      <th>y</th>\n",
       "      <td>2545</td>\n",
       "    </tr>\n",
       "    <tr>\n",
       "      <th>X0</th>\n",
       "      <td>47</td>\n",
       "    </tr>\n",
       "    <tr>\n",
       "      <th>X1</th>\n",
       "      <td>27</td>\n",
       "    </tr>\n",
       "    <tr>\n",
       "      <th>X2</th>\n",
       "      <td>44</td>\n",
       "    </tr>\n",
       "    <tr>\n",
       "      <th>...</th>\n",
       "      <td>...</td>\n",
       "    </tr>\n",
       "    <tr>\n",
       "      <th>X380</th>\n",
       "      <td>2</td>\n",
       "    </tr>\n",
       "    <tr>\n",
       "      <th>X382</th>\n",
       "      <td>2</td>\n",
       "    </tr>\n",
       "    <tr>\n",
       "      <th>X383</th>\n",
       "      <td>2</td>\n",
       "    </tr>\n",
       "    <tr>\n",
       "      <th>X384</th>\n",
       "      <td>2</td>\n",
       "    </tr>\n",
       "    <tr>\n",
       "      <th>X385</th>\n",
       "      <td>2</td>\n",
       "    </tr>\n",
       "  </tbody>\n",
       "</table>\n",
       "<p>366 rows × 1 columns</p>\n",
       "</div>"
      ],
      "text/plain": [
       "      Unique_Values\n",
       "ID             4209\n",
       "y              2545\n",
       "X0               47\n",
       "X1               27\n",
       "X2               44\n",
       "...             ...\n",
       "X380              2\n",
       "X382              2\n",
       "X383              2\n",
       "X384              2\n",
       "X385              2\n",
       "\n",
       "[366 rows x 1 columns]"
      ]
     },
     "execution_count": 24,
     "metadata": {},
     "output_type": "execute_result"
    }
   ],
   "source": [
    "train_original_modified_UV = pd.DataFrame(train_original_modified.nunique(), columns=([\"Unique_Values\"]))\n",
    "train_original_modified_UV                                                                                      "
   ]
  },
  {
   "cell_type": "raw",
   "id": "77b865a6",
   "metadata": {},
   "source": [
    " Comment:\n",
    "    1. It is observed that all the values in ID's are unique. In the provided dataaset, the ID represents the unique car configuration. So, this feature must be ignored for training as it will not make any sense to the prediction.\n",
    "    2. 'y' feature is the target feature.\n",
    "    3. Features X0,X1,X2,X3,X4,X5,X6,X7,X8 are the categorical features which must be converted to numerical values/ordinal encoded values.\n",
    "    4. All the features after X8 are having binary values."
   ]
  },
  {
   "cell_type": "code",
   "execution_count": 25,
   "id": "9b39396a",
   "metadata": {},
   "outputs": [
    {
     "name": "stdout",
     "output_type": "stream",
     "text": [
      "Train Features with unique values greater than 2 are as follows:\n",
      " Unique_Values  ID    4209\n",
      "               y     2545\n",
      "               X0      47\n",
      "               X1      27\n",
      "               X2      44\n",
      "               X3       7\n",
      "               X4       4\n",
      "               X5      29\n",
      "               X6      12\n",
      "               X8      25\n",
      "dtype: int64\n",
      "Train Features with unique values equl to 2 are as follows:\n",
      " Unique_Values  X10     2\n",
      "               X12     2\n",
      "               X13     2\n",
      "               X14     2\n",
      "               X15     2\n",
      "                      ..\n",
      "               X380    2\n",
      "               X382    2\n",
      "               X383    2\n",
      "               X384    2\n",
      "               X385    2\n",
      "Length: 356, dtype: int64\n"
     ]
    }
   ],
   "source": [
    "# Print the train dataset features unique values where the values = 2 and values>2.\n",
    "print('Train Features with unique values greater than 2 are as follows:\\n' , train_original_modified_UV[train_original_modified_UV.Unique_Values>2].unstack())\n",
    "print('Train Features with unique values equl to 2 are as follows:\\n' , train_original_modified_UV[train_original_modified_UV.Unique_Values==2].unstack())\n"
   ]
  },
  {
   "cell_type": "markdown",
   "id": "51f39757",
   "metadata": {},
   "source": [
    "#### Out of 366 train dataset features, 10 features are having greater than 2 unique values and remaining features are having only 2 unique values (0 and 1)."
   ]
  },
  {
   "cell_type": "markdown",
   "id": "93dbbdd3",
   "metadata": {},
   "source": [
    "### Similarly check the null and unique values in the test dataset."
   ]
  },
  {
   "cell_type": "code",
   "execution_count": 26,
   "id": "1d228b96",
   "metadata": {},
   "outputs": [
    {
     "name": "stdout",
     "output_type": "stream",
     "text": [
      "The sum of null values in the test dataset is: 0\n"
     ]
    }
   ],
   "source": [
    "# Check the null values in the test dataset \n",
    "print('The sum of null values in the test dataset is:' , test_original_modified.isnull().any().sum())"
   ]
  },
  {
   "cell_type": "markdown",
   "id": "14e995f0",
   "metadata": {},
   "source": [
    "#### There are no null values in the test dataset."
   ]
  },
  {
   "cell_type": "code",
   "execution_count": 27,
   "id": "5fa0be89",
   "metadata": {},
   "outputs": [
    {
     "data": {
      "text/html": [
       "<div>\n",
       "<style scoped>\n",
       "    .dataframe tbody tr th:only-of-type {\n",
       "        vertical-align: middle;\n",
       "    }\n",
       "\n",
       "    .dataframe tbody tr th {\n",
       "        vertical-align: top;\n",
       "    }\n",
       "\n",
       "    .dataframe thead th {\n",
       "        text-align: right;\n",
       "    }\n",
       "</style>\n",
       "<table border=\"1\" class=\"dataframe\">\n",
       "  <thead>\n",
       "    <tr style=\"text-align: right;\">\n",
       "      <th></th>\n",
       "      <th>Unique_Values</th>\n",
       "    </tr>\n",
       "  </thead>\n",
       "  <tbody>\n",
       "    <tr>\n",
       "      <th>ID</th>\n",
       "      <td>4209</td>\n",
       "    </tr>\n",
       "    <tr>\n",
       "      <th>X0</th>\n",
       "      <td>49</td>\n",
       "    </tr>\n",
       "    <tr>\n",
       "      <th>X1</th>\n",
       "      <td>27</td>\n",
       "    </tr>\n",
       "    <tr>\n",
       "      <th>X2</th>\n",
       "      <td>45</td>\n",
       "    </tr>\n",
       "    <tr>\n",
       "      <th>X3</th>\n",
       "      <td>7</td>\n",
       "    </tr>\n",
       "    <tr>\n",
       "      <th>...</th>\n",
       "      <td>...</td>\n",
       "    </tr>\n",
       "    <tr>\n",
       "      <th>X380</th>\n",
       "      <td>2</td>\n",
       "    </tr>\n",
       "    <tr>\n",
       "      <th>X382</th>\n",
       "      <td>2</td>\n",
       "    </tr>\n",
       "    <tr>\n",
       "      <th>X383</th>\n",
       "      <td>2</td>\n",
       "    </tr>\n",
       "    <tr>\n",
       "      <th>X384</th>\n",
       "      <td>2</td>\n",
       "    </tr>\n",
       "    <tr>\n",
       "      <th>X385</th>\n",
       "      <td>2</td>\n",
       "    </tr>\n",
       "  </tbody>\n",
       "</table>\n",
       "<p>365 rows × 1 columns</p>\n",
       "</div>"
      ],
      "text/plain": [
       "      Unique_Values\n",
       "ID             4209\n",
       "X0               49\n",
       "X1               27\n",
       "X2               45\n",
       "X3                7\n",
       "...             ...\n",
       "X380              2\n",
       "X382              2\n",
       "X383              2\n",
       "X384              2\n",
       "X385              2\n",
       "\n",
       "[365 rows x 1 columns]"
      ]
     },
     "execution_count": 27,
     "metadata": {},
     "output_type": "execute_result"
    }
   ],
   "source": [
    "# Check the unique values in the train dataset\n",
    "test_original_modified_UV = pd.DataFrame(test_original_modified.nunique(), columns=([\"Unique_Values\"]))\n",
    "test_original_modified_UV                                                                                      "
   ]
  },
  {
   "cell_type": "markdown",
   "id": "32feb392",
   "metadata": {},
   "source": [
    "##### Comment:\n",
    "    1. It is observed that all the values in ID's are unique. In the provided dataaset, the ID represents the unique car configuration. So, this feature must be ignored for testing as it will not make any sense to the prediction.\n",
    "    2. 'y' feature is the target feature.\n",
    "    3. Features X0,X1,X2,X3,X4,X5,X6,X7,X8 are the categorical features which must be converted to numerical values/ordinal encoded values.\n",
    "    4. All the features after X8 are having binary values."
   ]
  },
  {
   "cell_type": "code",
   "execution_count": 28,
   "id": "ee73a2d1",
   "metadata": {},
   "outputs": [
    {
     "name": "stdout",
     "output_type": "stream",
     "text": [
      "Test Features with unique values greater than 2 are as follows:\n",
      " Unique_Values  ID    4209\n",
      "               X0      49\n",
      "               X1      27\n",
      "               X2      45\n",
      "               X3       7\n",
      "               X4       4\n",
      "               X5      32\n",
      "               X6      12\n",
      "               X8      25\n",
      "dtype: int64\n",
      "Test Features with unique values equl to 2 are as follows:\n",
      " Unique_Values  X10     2\n",
      "               X12     2\n",
      "               X13     2\n",
      "               X14     2\n",
      "               X15     2\n",
      "                      ..\n",
      "               X380    2\n",
      "               X382    2\n",
      "               X383    2\n",
      "               X384    2\n",
      "               X385    2\n",
      "Length: 351, dtype: int64\n"
     ]
    }
   ],
   "source": [
    "# Print the test dataset features unique values where the values = 2 and values>2.\n",
    "print('Test Features with unique values greater than 2 are as follows:\\n' , test_original_modified_UV[test_original_modified_UV.Unique_Values>2].unstack())\n",
    "print('Test Features with unique values equl to 2 are as follows:\\n' , test_original_modified_UV[test_original_modified_UV.Unique_Values==2].unstack())\n"
   ]
  },
  {
   "cell_type": "markdown",
   "id": "4259e91f",
   "metadata": {},
   "source": [
    "##### Out of 372 test dataset features, 9 features are having greater than 2 unique values and remaining features are having only 2 unique values (0 and 1)."
   ]
  },
  {
   "cell_type": "markdown",
   "id": "89adc026",
   "metadata": {},
   "source": [
    "### Task 3 : To apply Label Encoder on Train and Test data set."
   ]
  },
  {
   "cell_type": "markdown",
   "id": "7ddd88e1",
   "metadata": {},
   "source": [
    "#####  Perform label encoder/Ordinal Encoder for categories features of trian dataset"
   ]
  },
  {
   "cell_type": "code",
   "execution_count": 29,
   "id": "36c0b4a9",
   "metadata": {},
   "outputs": [],
   "source": [
    "from sklearn.preprocessing import OrdinalEncoder"
   ]
  },
  {
   "cell_type": "code",
   "execution_count": 30,
   "id": "891b388b",
   "metadata": {},
   "outputs": [
    {
     "data": {
      "text/plain": [
       "OrdinalEncoder()"
      ]
     },
     "execution_count": 30,
     "metadata": {},
     "output_type": "execute_result"
    }
   ],
   "source": [
    "le_profession = OrdinalEncoder()\n",
    "le_profession.fit(train_original_modified[['X0','X1','X2','X3','X4','X5','X6','X8']])"
   ]
  },
  {
   "cell_type": "code",
   "execution_count": 31,
   "id": "d754e5d4",
   "metadata": {},
   "outputs": [
    {
     "data": {
      "text/plain": [
       "[array(['a', 'aa', 'ab', 'ac', 'ad', 'af', 'ai', 'aj', 'ak', 'al', 'am',\n",
       "        'ao', 'ap', 'aq', 'as', 'at', 'au', 'aw', 'ax', 'ay', 'az', 'b',\n",
       "        'ba', 'bc', 'c', 'd', 'e', 'f', 'g', 'h', 'i', 'j', 'k', 'l', 'm',\n",
       "        'n', 'o', 'q', 'r', 's', 't', 'u', 'v', 'w', 'x', 'y', 'z'],\n",
       "       dtype=object),\n",
       " array(['a', 'aa', 'ab', 'b', 'c', 'd', 'e', 'f', 'g', 'h', 'i', 'j', 'k',\n",
       "        'l', 'm', 'n', 'o', 'p', 'q', 'r', 's', 't', 'u', 'v', 'w', 'y',\n",
       "        'z'], dtype=object),\n",
       " array(['a', 'aa', 'ac', 'ae', 'af', 'ag', 'ah', 'ai', 'ak', 'al', 'am',\n",
       "        'an', 'ao', 'ap', 'aq', 'ar', 'as', 'at', 'au', 'av', 'aw', 'ay',\n",
       "        'b', 'c', 'd', 'e', 'f', 'g', 'h', 'i', 'j', 'k', 'l', 'm', 'n',\n",
       "        'o', 'p', 'q', 'r', 's', 't', 'x', 'y', 'z'], dtype=object),\n",
       " array(['a', 'b', 'c', 'd', 'e', 'f', 'g'], dtype=object),\n",
       " array(['a', 'b', 'c', 'd'], dtype=object),\n",
       " array(['aa', 'ab', 'ac', 'ad', 'ae', 'af', 'ag', 'ah', 'c', 'd', 'f', 'g',\n",
       "        'h', 'i', 'j', 'k', 'l', 'm', 'n', 'o', 'p', 'q', 'r', 's', 'u',\n",
       "        'v', 'w', 'x', 'y'], dtype=object),\n",
       " array(['a', 'b', 'c', 'd', 'e', 'f', 'g', 'h', 'i', 'j', 'k', 'l'],\n",
       "       dtype=object),\n",
       " array(['a', 'b', 'c', 'd', 'e', 'f', 'g', 'h', 'i', 'j', 'k', 'l', 'm',\n",
       "        'n', 'o', 'p', 'q', 'r', 's', 't', 'u', 'v', 'w', 'x', 'y'],\n",
       "       dtype=object)]"
      ]
     },
     "execution_count": 31,
     "metadata": {},
     "output_type": "execute_result"
    }
   ],
   "source": [
    "le_profession.categories_"
   ]
  },
  {
   "cell_type": "markdown",
   "id": "535b2b66",
   "metadata": {},
   "source": [
    "#### fit method learns the transformer's attributes. It does not change the column. To change the column we will now use the learnt attribute to do the transformation by using transform function"
   ]
  },
  {
   "cell_type": "code",
   "execution_count": 32,
   "id": "e11b159d",
   "metadata": {},
   "outputs": [
    {
     "data": {
      "text/html": [
       "<div>\n",
       "<style scoped>\n",
       "    .dataframe tbody tr th:only-of-type {\n",
       "        vertical-align: middle;\n",
       "    }\n",
       "\n",
       "    .dataframe tbody tr th {\n",
       "        vertical-align: top;\n",
       "    }\n",
       "\n",
       "    .dataframe thead th {\n",
       "        text-align: right;\n",
       "    }\n",
       "</style>\n",
       "<table border=\"1\" class=\"dataframe\">\n",
       "  <thead>\n",
       "    <tr style=\"text-align: right;\">\n",
       "      <th></th>\n",
       "      <th>ID</th>\n",
       "      <th>y</th>\n",
       "      <th>X0</th>\n",
       "      <th>X1</th>\n",
       "      <th>X2</th>\n",
       "      <th>X3</th>\n",
       "      <th>X4</th>\n",
       "      <th>X5</th>\n",
       "      <th>X6</th>\n",
       "      <th>X8</th>\n",
       "      <th>...</th>\n",
       "      <th>X375</th>\n",
       "      <th>X376</th>\n",
       "      <th>X377</th>\n",
       "      <th>X378</th>\n",
       "      <th>X379</th>\n",
       "      <th>X380</th>\n",
       "      <th>X382</th>\n",
       "      <th>X383</th>\n",
       "      <th>X384</th>\n",
       "      <th>X385</th>\n",
       "    </tr>\n",
       "  </thead>\n",
       "  <tbody>\n",
       "    <tr>\n",
       "      <th>0</th>\n",
       "      <td>0</td>\n",
       "      <td>130.81</td>\n",
       "      <td>32.0</td>\n",
       "      <td>23.0</td>\n",
       "      <td>17.0</td>\n",
       "      <td>0.0</td>\n",
       "      <td>3.0</td>\n",
       "      <td>24.0</td>\n",
       "      <td>9.0</td>\n",
       "      <td>14.0</td>\n",
       "      <td>...</td>\n",
       "      <td>0</td>\n",
       "      <td>0</td>\n",
       "      <td>1</td>\n",
       "      <td>0</td>\n",
       "      <td>0</td>\n",
       "      <td>0</td>\n",
       "      <td>0</td>\n",
       "      <td>0</td>\n",
       "      <td>0</td>\n",
       "      <td>0</td>\n",
       "    </tr>\n",
       "    <tr>\n",
       "      <th>1</th>\n",
       "      <td>6</td>\n",
       "      <td>88.53</td>\n",
       "      <td>32.0</td>\n",
       "      <td>21.0</td>\n",
       "      <td>19.0</td>\n",
       "      <td>4.0</td>\n",
       "      <td>3.0</td>\n",
       "      <td>28.0</td>\n",
       "      <td>11.0</td>\n",
       "      <td>14.0</td>\n",
       "      <td>...</td>\n",
       "      <td>1</td>\n",
       "      <td>0</td>\n",
       "      <td>0</td>\n",
       "      <td>0</td>\n",
       "      <td>0</td>\n",
       "      <td>0</td>\n",
       "      <td>0</td>\n",
       "      <td>0</td>\n",
       "      <td>0</td>\n",
       "      <td>0</td>\n",
       "    </tr>\n",
       "    <tr>\n",
       "      <th>2</th>\n",
       "      <td>7</td>\n",
       "      <td>76.26</td>\n",
       "      <td>20.0</td>\n",
       "      <td>24.0</td>\n",
       "      <td>34.0</td>\n",
       "      <td>2.0</td>\n",
       "      <td>3.0</td>\n",
       "      <td>27.0</td>\n",
       "      <td>9.0</td>\n",
       "      <td>23.0</td>\n",
       "      <td>...</td>\n",
       "      <td>0</td>\n",
       "      <td>0</td>\n",
       "      <td>0</td>\n",
       "      <td>0</td>\n",
       "      <td>0</td>\n",
       "      <td>0</td>\n",
       "      <td>1</td>\n",
       "      <td>0</td>\n",
       "      <td>0</td>\n",
       "      <td>0</td>\n",
       "    </tr>\n",
       "    <tr>\n",
       "      <th>3</th>\n",
       "      <td>9</td>\n",
       "      <td>80.62</td>\n",
       "      <td>20.0</td>\n",
       "      <td>21.0</td>\n",
       "      <td>34.0</td>\n",
       "      <td>5.0</td>\n",
       "      <td>3.0</td>\n",
       "      <td>27.0</td>\n",
       "      <td>11.0</td>\n",
       "      <td>4.0</td>\n",
       "      <td>...</td>\n",
       "      <td>0</td>\n",
       "      <td>0</td>\n",
       "      <td>0</td>\n",
       "      <td>0</td>\n",
       "      <td>0</td>\n",
       "      <td>0</td>\n",
       "      <td>0</td>\n",
       "      <td>0</td>\n",
       "      <td>0</td>\n",
       "      <td>0</td>\n",
       "    </tr>\n",
       "    <tr>\n",
       "      <th>4</th>\n",
       "      <td>13</td>\n",
       "      <td>78.02</td>\n",
       "      <td>20.0</td>\n",
       "      <td>23.0</td>\n",
       "      <td>34.0</td>\n",
       "      <td>5.0</td>\n",
       "      <td>3.0</td>\n",
       "      <td>12.0</td>\n",
       "      <td>3.0</td>\n",
       "      <td>13.0</td>\n",
       "      <td>...</td>\n",
       "      <td>0</td>\n",
       "      <td>0</td>\n",
       "      <td>0</td>\n",
       "      <td>0</td>\n",
       "      <td>0</td>\n",
       "      <td>0</td>\n",
       "      <td>0</td>\n",
       "      <td>0</td>\n",
       "      <td>0</td>\n",
       "      <td>0</td>\n",
       "    </tr>\n",
       "    <tr>\n",
       "      <th>...</th>\n",
       "      <td>...</td>\n",
       "      <td>...</td>\n",
       "      <td>...</td>\n",
       "      <td>...</td>\n",
       "      <td>...</td>\n",
       "      <td>...</td>\n",
       "      <td>...</td>\n",
       "      <td>...</td>\n",
       "      <td>...</td>\n",
       "      <td>...</td>\n",
       "      <td>...</td>\n",
       "      <td>...</td>\n",
       "      <td>...</td>\n",
       "      <td>...</td>\n",
       "      <td>...</td>\n",
       "      <td>...</td>\n",
       "      <td>...</td>\n",
       "      <td>...</td>\n",
       "      <td>...</td>\n",
       "      <td>...</td>\n",
       "      <td>...</td>\n",
       "    </tr>\n",
       "    <tr>\n",
       "      <th>4204</th>\n",
       "      <td>8405</td>\n",
       "      <td>107.39</td>\n",
       "      <td>8.0</td>\n",
       "      <td>20.0</td>\n",
       "      <td>16.0</td>\n",
       "      <td>2.0</td>\n",
       "      <td>3.0</td>\n",
       "      <td>0.0</td>\n",
       "      <td>3.0</td>\n",
       "      <td>16.0</td>\n",
       "      <td>...</td>\n",
       "      <td>1</td>\n",
       "      <td>0</td>\n",
       "      <td>0</td>\n",
       "      <td>0</td>\n",
       "      <td>0</td>\n",
       "      <td>0</td>\n",
       "      <td>0</td>\n",
       "      <td>0</td>\n",
       "      <td>0</td>\n",
       "      <td>0</td>\n",
       "    </tr>\n",
       "    <tr>\n",
       "      <th>4205</th>\n",
       "      <td>8406</td>\n",
       "      <td>108.77</td>\n",
       "      <td>31.0</td>\n",
       "      <td>16.0</td>\n",
       "      <td>40.0</td>\n",
       "      <td>3.0</td>\n",
       "      <td>3.0</td>\n",
       "      <td>0.0</td>\n",
       "      <td>7.0</td>\n",
       "      <td>7.0</td>\n",
       "      <td>...</td>\n",
       "      <td>0</td>\n",
       "      <td>1</td>\n",
       "      <td>0</td>\n",
       "      <td>0</td>\n",
       "      <td>0</td>\n",
       "      <td>0</td>\n",
       "      <td>0</td>\n",
       "      <td>0</td>\n",
       "      <td>0</td>\n",
       "      <td>0</td>\n",
       "    </tr>\n",
       "    <tr>\n",
       "      <th>4206</th>\n",
       "      <td>8412</td>\n",
       "      <td>109.22</td>\n",
       "      <td>8.0</td>\n",
       "      <td>23.0</td>\n",
       "      <td>38.0</td>\n",
       "      <td>0.0</td>\n",
       "      <td>3.0</td>\n",
       "      <td>0.0</td>\n",
       "      <td>6.0</td>\n",
       "      <td>4.0</td>\n",
       "      <td>...</td>\n",
       "      <td>0</td>\n",
       "      <td>0</td>\n",
       "      <td>1</td>\n",
       "      <td>0</td>\n",
       "      <td>0</td>\n",
       "      <td>0</td>\n",
       "      <td>0</td>\n",
       "      <td>0</td>\n",
       "      <td>0</td>\n",
       "      <td>0</td>\n",
       "    </tr>\n",
       "    <tr>\n",
       "      <th>4207</th>\n",
       "      <td>8415</td>\n",
       "      <td>87.48</td>\n",
       "      <td>9.0</td>\n",
       "      <td>19.0</td>\n",
       "      <td>25.0</td>\n",
       "      <td>5.0</td>\n",
       "      <td>3.0</td>\n",
       "      <td>0.0</td>\n",
       "      <td>11.0</td>\n",
       "      <td>20.0</td>\n",
       "      <td>...</td>\n",
       "      <td>0</td>\n",
       "      <td>0</td>\n",
       "      <td>0</td>\n",
       "      <td>0</td>\n",
       "      <td>0</td>\n",
       "      <td>0</td>\n",
       "      <td>0</td>\n",
       "      <td>0</td>\n",
       "      <td>0</td>\n",
       "      <td>0</td>\n",
       "    </tr>\n",
       "    <tr>\n",
       "      <th>4208</th>\n",
       "      <td>8417</td>\n",
       "      <td>110.85</td>\n",
       "      <td>46.0</td>\n",
       "      <td>19.0</td>\n",
       "      <td>3.0</td>\n",
       "      <td>2.0</td>\n",
       "      <td>3.0</td>\n",
       "      <td>0.0</td>\n",
       "      <td>6.0</td>\n",
       "      <td>22.0</td>\n",
       "      <td>...</td>\n",
       "      <td>1</td>\n",
       "      <td>0</td>\n",
       "      <td>0</td>\n",
       "      <td>0</td>\n",
       "      <td>0</td>\n",
       "      <td>0</td>\n",
       "      <td>0</td>\n",
       "      <td>0</td>\n",
       "      <td>0</td>\n",
       "      <td>0</td>\n",
       "    </tr>\n",
       "  </tbody>\n",
       "</table>\n",
       "<p>4209 rows × 366 columns</p>\n",
       "</div>"
      ],
      "text/plain": [
       "        ID       y    X0    X1    X2   X3   X4    X5    X6    X8  ...  X375  \\\n",
       "0        0  130.81  32.0  23.0  17.0  0.0  3.0  24.0   9.0  14.0  ...     0   \n",
       "1        6   88.53  32.0  21.0  19.0  4.0  3.0  28.0  11.0  14.0  ...     1   \n",
       "2        7   76.26  20.0  24.0  34.0  2.0  3.0  27.0   9.0  23.0  ...     0   \n",
       "3        9   80.62  20.0  21.0  34.0  5.0  3.0  27.0  11.0   4.0  ...     0   \n",
       "4       13   78.02  20.0  23.0  34.0  5.0  3.0  12.0   3.0  13.0  ...     0   \n",
       "...    ...     ...   ...   ...   ...  ...  ...   ...   ...   ...  ...   ...   \n",
       "4204  8405  107.39   8.0  20.0  16.0  2.0  3.0   0.0   3.0  16.0  ...     1   \n",
       "4205  8406  108.77  31.0  16.0  40.0  3.0  3.0   0.0   7.0   7.0  ...     0   \n",
       "4206  8412  109.22   8.0  23.0  38.0  0.0  3.0   0.0   6.0   4.0  ...     0   \n",
       "4207  8415   87.48   9.0  19.0  25.0  5.0  3.0   0.0  11.0  20.0  ...     0   \n",
       "4208  8417  110.85  46.0  19.0   3.0  2.0  3.0   0.0   6.0  22.0  ...     1   \n",
       "\n",
       "      X376  X377  X378  X379  X380  X382  X383  X384  X385  \n",
       "0        0     1     0     0     0     0     0     0     0  \n",
       "1        0     0     0     0     0     0     0     0     0  \n",
       "2        0     0     0     0     0     1     0     0     0  \n",
       "3        0     0     0     0     0     0     0     0     0  \n",
       "4        0     0     0     0     0     0     0     0     0  \n",
       "...    ...   ...   ...   ...   ...   ...   ...   ...   ...  \n",
       "4204     0     0     0     0     0     0     0     0     0  \n",
       "4205     1     0     0     0     0     0     0     0     0  \n",
       "4206     0     1     0     0     0     0     0     0     0  \n",
       "4207     0     0     0     0     0     0     0     0     0  \n",
       "4208     0     0     0     0     0     0     0     0     0  \n",
       "\n",
       "[4209 rows x 366 columns]"
      ]
     },
     "execution_count": 32,
     "metadata": {},
     "output_type": "execute_result"
    }
   ],
   "source": [
    "train_original_modified[['X0','X1','X2','X3','X4','X5','X6','X8']] = le_profession.transform(train_original_modified[['X0','X1','X2','X3','X4','X5','X6','X8']])\n",
    "train_original_modified"
   ]
  },
  {
   "cell_type": "code",
   "execution_count": 33,
   "id": "002d6508",
   "metadata": {},
   "outputs": [
    {
     "data": {
      "text/plain": [
       "array([['k', 'v', 'at', ..., 'u', 'j', 'o'],\n",
       "       ['k', 't', 'av', ..., 'y', 'l', 'o'],\n",
       "       ['az', 'w', 'n', ..., 'x', 'j', 'x'],\n",
       "       ...,\n",
       "       ['ak', 'v', 'r', ..., 'aa', 'g', 'e'],\n",
       "       ['al', 'r', 'e', ..., 'aa', 'l', 'u'],\n",
       "       ['z', 'r', 'ae', ..., 'aa', 'g', 'w']], dtype=object)"
      ]
     },
     "execution_count": 33,
     "metadata": {},
     "output_type": "execute_result"
    }
   ],
   "source": [
    "le_profession.inverse_transform(train_original_modified[['X0','X1','X2','X3','X4','X5','X6','X8']])"
   ]
  },
  {
   "cell_type": "markdown",
   "id": "2ecef27e",
   "metadata": {},
   "source": [
    "##### Similarly perform label encoder/Ordinal Encoder for categories features of trian dataset"
   ]
  },
  {
   "cell_type": "code",
   "execution_count": 34,
   "id": "fee7760b",
   "metadata": {},
   "outputs": [
    {
     "data": {
      "text/plain": [
       "OrdinalEncoder()"
      ]
     },
     "execution_count": 34,
     "metadata": {},
     "output_type": "execute_result"
    }
   ],
   "source": [
    "le_profession = OrdinalEncoder()\n",
    "le_profession.fit(test_original_modified[['X0','X1','X2','X3','X4','X5','X6','X8']])"
   ]
  },
  {
   "cell_type": "code",
   "execution_count": 35,
   "id": "4466fa41",
   "metadata": {},
   "outputs": [
    {
     "data": {
      "text/plain": [
       "[array(['a', 'ad', 'ae', 'af', 'ag', 'ai', 'aj', 'ak', 'al', 'am', 'an',\n",
       "        'ao', 'ap', 'aq', 'as', 'at', 'au', 'av', 'aw', 'ax', 'ay', 'az',\n",
       "        'b', 'ba', 'bb', 'bc', 'c', 'd', 'e', 'f', 'g', 'h', 'i', 'j', 'k',\n",
       "        'l', 'm', 'n', 'o', 'p', 'r', 's', 't', 'u', 'v', 'w', 'x', 'y',\n",
       "        'z'], dtype=object),\n",
       " array(['a', 'aa', 'ab', 'b', 'c', 'd', 'e', 'f', 'g', 'h', 'i', 'j', 'k',\n",
       "        'l', 'm', 'n', 'o', 'p', 'q', 'r', 's', 't', 'u', 'v', 'w', 'y',\n",
       "        'z'], dtype=object),\n",
       " array(['a', 'ab', 'ac', 'ad', 'ae', 'af', 'ag', 'ah', 'ai', 'aj', 'ak',\n",
       "        'al', 'am', 'an', 'ao', 'ap', 'aq', 'as', 'at', 'au', 'av', 'aw',\n",
       "        'ax', 'ay', 'b', 'd', 'e', 'f', 'g', 'h', 'i', 'j', 'k', 'm', 'n',\n",
       "        'p', 'q', 'r', 's', 't', 'u', 'w', 'x', 'y', 'z'], dtype=object),\n",
       " array(['a', 'b', 'c', 'd', 'e', 'f', 'g'], dtype=object),\n",
       " array(['a', 'b', 'c', 'd'], dtype=object),\n",
       " array(['a', 'aa', 'ab', 'ac', 'ad', 'ae', 'af', 'ag', 'ah', 'b', 'c', 'd',\n",
       "        'f', 'g', 'h', 'i', 'j', 'k', 'l', 'm', 'n', 'o', 'p', 'q', 'r',\n",
       "        's', 't', 'v', 'w', 'x', 'y', 'z'], dtype=object),\n",
       " array(['a', 'b', 'c', 'd', 'e', 'f', 'g', 'h', 'i', 'j', 'k', 'l'],\n",
       "       dtype=object),\n",
       " array(['a', 'b', 'c', 'd', 'e', 'f', 'g', 'h', 'i', 'j', 'k', 'l', 'm',\n",
       "        'n', 'o', 'p', 'q', 'r', 's', 't', 'u', 'v', 'w', 'x', 'y'],\n",
       "       dtype=object)]"
      ]
     },
     "execution_count": 35,
     "metadata": {},
     "output_type": "execute_result"
    }
   ],
   "source": [
    "le_profession.categories_"
   ]
  },
  {
   "cell_type": "markdown",
   "id": "2564dbf1",
   "metadata": {},
   "source": [
    "##### fit method learns the transformer's attributes. It does not change the column. To change the column we will now use the learnt attribute to do the transformation by using transform function"
   ]
  },
  {
   "cell_type": "code",
   "execution_count": 36,
   "id": "7ef9a20a",
   "metadata": {},
   "outputs": [
    {
     "data": {
      "text/html": [
       "<div>\n",
       "<style scoped>\n",
       "    .dataframe tbody tr th:only-of-type {\n",
       "        vertical-align: middle;\n",
       "    }\n",
       "\n",
       "    .dataframe tbody tr th {\n",
       "        vertical-align: top;\n",
       "    }\n",
       "\n",
       "    .dataframe thead th {\n",
       "        text-align: right;\n",
       "    }\n",
       "</style>\n",
       "<table border=\"1\" class=\"dataframe\">\n",
       "  <thead>\n",
       "    <tr style=\"text-align: right;\">\n",
       "      <th></th>\n",
       "      <th>ID</th>\n",
       "      <th>X0</th>\n",
       "      <th>X1</th>\n",
       "      <th>X2</th>\n",
       "      <th>X3</th>\n",
       "      <th>X4</th>\n",
       "      <th>X5</th>\n",
       "      <th>X6</th>\n",
       "      <th>X8</th>\n",
       "      <th>X10</th>\n",
       "      <th>...</th>\n",
       "      <th>X375</th>\n",
       "      <th>X376</th>\n",
       "      <th>X377</th>\n",
       "      <th>X378</th>\n",
       "      <th>X379</th>\n",
       "      <th>X380</th>\n",
       "      <th>X382</th>\n",
       "      <th>X383</th>\n",
       "      <th>X384</th>\n",
       "      <th>X385</th>\n",
       "    </tr>\n",
       "  </thead>\n",
       "  <tbody>\n",
       "    <tr>\n",
       "      <th>0</th>\n",
       "      <td>1</td>\n",
       "      <td>21.0</td>\n",
       "      <td>23.0</td>\n",
       "      <td>34.0</td>\n",
       "      <td>5.0</td>\n",
       "      <td>3.0</td>\n",
       "      <td>26.0</td>\n",
       "      <td>0.0</td>\n",
       "      <td>22.0</td>\n",
       "      <td>0</td>\n",
       "      <td>...</td>\n",
       "      <td>0</td>\n",
       "      <td>0</td>\n",
       "      <td>0</td>\n",
       "      <td>1</td>\n",
       "      <td>0</td>\n",
       "      <td>0</td>\n",
       "      <td>0</td>\n",
       "      <td>0</td>\n",
       "      <td>0</td>\n",
       "      <td>0</td>\n",
       "    </tr>\n",
       "    <tr>\n",
       "      <th>1</th>\n",
       "      <td>2</td>\n",
       "      <td>42.0</td>\n",
       "      <td>3.0</td>\n",
       "      <td>8.0</td>\n",
       "      <td>0.0</td>\n",
       "      <td>3.0</td>\n",
       "      <td>9.0</td>\n",
       "      <td>6.0</td>\n",
       "      <td>24.0</td>\n",
       "      <td>0</td>\n",
       "      <td>...</td>\n",
       "      <td>0</td>\n",
       "      <td>0</td>\n",
       "      <td>1</td>\n",
       "      <td>0</td>\n",
       "      <td>0</td>\n",
       "      <td>0</td>\n",
       "      <td>0</td>\n",
       "      <td>0</td>\n",
       "      <td>0</td>\n",
       "      <td>0</td>\n",
       "    </tr>\n",
       "    <tr>\n",
       "      <th>2</th>\n",
       "      <td>3</td>\n",
       "      <td>21.0</td>\n",
       "      <td>23.0</td>\n",
       "      <td>17.0</td>\n",
       "      <td>5.0</td>\n",
       "      <td>3.0</td>\n",
       "      <td>0.0</td>\n",
       "      <td>9.0</td>\n",
       "      <td>9.0</td>\n",
       "      <td>0</td>\n",
       "      <td>...</td>\n",
       "      <td>0</td>\n",
       "      <td>0</td>\n",
       "      <td>0</td>\n",
       "      <td>1</td>\n",
       "      <td>0</td>\n",
       "      <td>0</td>\n",
       "      <td>0</td>\n",
       "      <td>0</td>\n",
       "      <td>0</td>\n",
       "      <td>0</td>\n",
       "    </tr>\n",
       "    <tr>\n",
       "      <th>3</th>\n",
       "      <td>4</td>\n",
       "      <td>21.0</td>\n",
       "      <td>13.0</td>\n",
       "      <td>34.0</td>\n",
       "      <td>5.0</td>\n",
       "      <td>3.0</td>\n",
       "      <td>31.0</td>\n",
       "      <td>11.0</td>\n",
       "      <td>13.0</td>\n",
       "      <td>0</td>\n",
       "      <td>...</td>\n",
       "      <td>0</td>\n",
       "      <td>0</td>\n",
       "      <td>0</td>\n",
       "      <td>1</td>\n",
       "      <td>0</td>\n",
       "      <td>0</td>\n",
       "      <td>0</td>\n",
       "      <td>0</td>\n",
       "      <td>0</td>\n",
       "      <td>0</td>\n",
       "    </tr>\n",
       "    <tr>\n",
       "      <th>4</th>\n",
       "      <td>5</td>\n",
       "      <td>45.0</td>\n",
       "      <td>20.0</td>\n",
       "      <td>17.0</td>\n",
       "      <td>2.0</td>\n",
       "      <td>3.0</td>\n",
       "      <td>30.0</td>\n",
       "      <td>8.0</td>\n",
       "      <td>12.0</td>\n",
       "      <td>0</td>\n",
       "      <td>...</td>\n",
       "      <td>1</td>\n",
       "      <td>0</td>\n",
       "      <td>0</td>\n",
       "      <td>0</td>\n",
       "      <td>0</td>\n",
       "      <td>0</td>\n",
       "      <td>0</td>\n",
       "      <td>0</td>\n",
       "      <td>0</td>\n",
       "      <td>0</td>\n",
       "    </tr>\n",
       "    <tr>\n",
       "      <th>...</th>\n",
       "      <td>...</td>\n",
       "      <td>...</td>\n",
       "      <td>...</td>\n",
       "      <td>...</td>\n",
       "      <td>...</td>\n",
       "      <td>...</td>\n",
       "      <td>...</td>\n",
       "      <td>...</td>\n",
       "      <td>...</td>\n",
       "      <td>...</td>\n",
       "      <td>...</td>\n",
       "      <td>...</td>\n",
       "      <td>...</td>\n",
       "      <td>...</td>\n",
       "      <td>...</td>\n",
       "      <td>...</td>\n",
       "      <td>...</td>\n",
       "      <td>...</td>\n",
       "      <td>...</td>\n",
       "      <td>...</td>\n",
       "      <td>...</td>\n",
       "    </tr>\n",
       "    <tr>\n",
       "      <th>4204</th>\n",
       "      <td>8410</td>\n",
       "      <td>6.0</td>\n",
       "      <td>9.0</td>\n",
       "      <td>17.0</td>\n",
       "      <td>5.0</td>\n",
       "      <td>3.0</td>\n",
       "      <td>1.0</td>\n",
       "      <td>9.0</td>\n",
       "      <td>4.0</td>\n",
       "      <td>0</td>\n",
       "      <td>...</td>\n",
       "      <td>0</td>\n",
       "      <td>0</td>\n",
       "      <td>0</td>\n",
       "      <td>0</td>\n",
       "      <td>0</td>\n",
       "      <td>0</td>\n",
       "      <td>0</td>\n",
       "      <td>0</td>\n",
       "      <td>0</td>\n",
       "      <td>0</td>\n",
       "    </tr>\n",
       "    <tr>\n",
       "      <th>4205</th>\n",
       "      <td>8411</td>\n",
       "      <td>42.0</td>\n",
       "      <td>1.0</td>\n",
       "      <td>8.0</td>\n",
       "      <td>3.0</td>\n",
       "      <td>3.0</td>\n",
       "      <td>1.0</td>\n",
       "      <td>9.0</td>\n",
       "      <td>24.0</td>\n",
       "      <td>0</td>\n",
       "      <td>...</td>\n",
       "      <td>0</td>\n",
       "      <td>1</td>\n",
       "      <td>0</td>\n",
       "      <td>0</td>\n",
       "      <td>0</td>\n",
       "      <td>0</td>\n",
       "      <td>0</td>\n",
       "      <td>0</td>\n",
       "      <td>0</td>\n",
       "      <td>0</td>\n",
       "    </tr>\n",
       "    <tr>\n",
       "      <th>4206</th>\n",
       "      <td>8413</td>\n",
       "      <td>47.0</td>\n",
       "      <td>23.0</td>\n",
       "      <td>17.0</td>\n",
       "      <td>5.0</td>\n",
       "      <td>3.0</td>\n",
       "      <td>1.0</td>\n",
       "      <td>3.0</td>\n",
       "      <td>22.0</td>\n",
       "      <td>0</td>\n",
       "      <td>...</td>\n",
       "      <td>0</td>\n",
       "      <td>0</td>\n",
       "      <td>0</td>\n",
       "      <td>0</td>\n",
       "      <td>0</td>\n",
       "      <td>0</td>\n",
       "      <td>0</td>\n",
       "      <td>0</td>\n",
       "      <td>0</td>\n",
       "      <td>0</td>\n",
       "    </tr>\n",
       "    <tr>\n",
       "      <th>4207</th>\n",
       "      <td>8414</td>\n",
       "      <td>7.0</td>\n",
       "      <td>23.0</td>\n",
       "      <td>17.0</td>\n",
       "      <td>0.0</td>\n",
       "      <td>3.0</td>\n",
       "      <td>1.0</td>\n",
       "      <td>2.0</td>\n",
       "      <td>16.0</td>\n",
       "      <td>0</td>\n",
       "      <td>...</td>\n",
       "      <td>0</td>\n",
       "      <td>0</td>\n",
       "      <td>1</td>\n",
       "      <td>0</td>\n",
       "      <td>0</td>\n",
       "      <td>0</td>\n",
       "      <td>0</td>\n",
       "      <td>0</td>\n",
       "      <td>0</td>\n",
       "      <td>0</td>\n",
       "    </tr>\n",
       "    <tr>\n",
       "      <th>4208</th>\n",
       "      <td>8416</td>\n",
       "      <td>42.0</td>\n",
       "      <td>1.0</td>\n",
       "      <td>8.0</td>\n",
       "      <td>2.0</td>\n",
       "      <td>3.0</td>\n",
       "      <td>1.0</td>\n",
       "      <td>6.0</td>\n",
       "      <td>17.0</td>\n",
       "      <td>0</td>\n",
       "      <td>...</td>\n",
       "      <td>1</td>\n",
       "      <td>0</td>\n",
       "      <td>0</td>\n",
       "      <td>0</td>\n",
       "      <td>0</td>\n",
       "      <td>0</td>\n",
       "      <td>0</td>\n",
       "      <td>0</td>\n",
       "      <td>0</td>\n",
       "      <td>0</td>\n",
       "    </tr>\n",
       "  </tbody>\n",
       "</table>\n",
       "<p>4209 rows × 365 columns</p>\n",
       "</div>"
      ],
      "text/plain": [
       "        ID    X0    X1    X2   X3   X4    X5    X6    X8  X10  ...  X375  \\\n",
       "0        1  21.0  23.0  34.0  5.0  3.0  26.0   0.0  22.0    0  ...     0   \n",
       "1        2  42.0   3.0   8.0  0.0  3.0   9.0   6.0  24.0    0  ...     0   \n",
       "2        3  21.0  23.0  17.0  5.0  3.0   0.0   9.0   9.0    0  ...     0   \n",
       "3        4  21.0  13.0  34.0  5.0  3.0  31.0  11.0  13.0    0  ...     0   \n",
       "4        5  45.0  20.0  17.0  2.0  3.0  30.0   8.0  12.0    0  ...     1   \n",
       "...    ...   ...   ...   ...  ...  ...   ...   ...   ...  ...  ...   ...   \n",
       "4204  8410   6.0   9.0  17.0  5.0  3.0   1.0   9.0   4.0    0  ...     0   \n",
       "4205  8411  42.0   1.0   8.0  3.0  3.0   1.0   9.0  24.0    0  ...     0   \n",
       "4206  8413  47.0  23.0  17.0  5.0  3.0   1.0   3.0  22.0    0  ...     0   \n",
       "4207  8414   7.0  23.0  17.0  0.0  3.0   1.0   2.0  16.0    0  ...     0   \n",
       "4208  8416  42.0   1.0   8.0  2.0  3.0   1.0   6.0  17.0    0  ...     1   \n",
       "\n",
       "      X376  X377  X378  X379  X380  X382  X383  X384  X385  \n",
       "0        0     0     1     0     0     0     0     0     0  \n",
       "1        0     1     0     0     0     0     0     0     0  \n",
       "2        0     0     1     0     0     0     0     0     0  \n",
       "3        0     0     1     0     0     0     0     0     0  \n",
       "4        0     0     0     0     0     0     0     0     0  \n",
       "...    ...   ...   ...   ...   ...   ...   ...   ...   ...  \n",
       "4204     0     0     0     0     0     0     0     0     0  \n",
       "4205     1     0     0     0     0     0     0     0     0  \n",
       "4206     0     0     0     0     0     0     0     0     0  \n",
       "4207     0     1     0     0     0     0     0     0     0  \n",
       "4208     0     0     0     0     0     0     0     0     0  \n",
       "\n",
       "[4209 rows x 365 columns]"
      ]
     },
     "execution_count": 36,
     "metadata": {},
     "output_type": "execute_result"
    }
   ],
   "source": [
    "test_original_modified[['X0','X1','X2','X3','X4','X5','X6','X8']] = le_profession.transform(test_original_modified[['X0','X1','X2','X3','X4','X5','X6','X8']])\n",
    "test_original_modified"
   ]
  },
  {
   "cell_type": "code",
   "execution_count": 37,
   "id": "9d03b4f8",
   "metadata": {},
   "outputs": [
    {
     "data": {
      "text/plain": [
       "array([['az', 'v', 'n', ..., 't', 'a', 'w'],\n",
       "       ['t', 'b', 'ai', ..., 'b', 'g', 'y'],\n",
       "       ['az', 'v', 'as', ..., 'a', 'j', 'j'],\n",
       "       ...,\n",
       "       ['y', 'v', 'as', ..., 'aa', 'd', 'w'],\n",
       "       ['ak', 'v', 'as', ..., 'aa', 'c', 'q'],\n",
       "       ['t', 'aa', 'ai', ..., 'aa', 'g', 'r']], dtype=object)"
      ]
     },
     "execution_count": 37,
     "metadata": {},
     "output_type": "execute_result"
    }
   ],
   "source": [
    "le_profession.inverse_transform(test_original_modified[['X0','X1','X2','X3','X4','X5','X6','X8']])"
   ]
  },
  {
   "cell_type": "markdown",
   "id": "4084ee44",
   "metadata": {},
   "source": [
    "### Task 4 : To perform dimensionality reduction."
   ]
  },
  {
   "cell_type": "code",
   "execution_count": 72,
   "id": "84e0b213",
   "metadata": {},
   "outputs": [],
   "source": [
    "# Before performing dimensionality reduction principal component analysis (PCA), separate the following:\n",
    "# features 'ID' and 'y' from train_original_modified dataset and store in the new object\n",
    "# features 'ID' from  test_original_modified.shape and store it in the new object"
   ]
  },
  {
   "cell_type": "code",
   "execution_count": 73,
   "id": "7356bb1f",
   "metadata": {},
   "outputs": [],
   "source": [
    "# Store 'ID' values into the new object train_ID and test_ID and verify the shape"
   ]
  },
  {
   "cell_type": "code",
   "execution_count": 122,
   "id": "f93458a5",
   "metadata": {},
   "outputs": [
    {
     "name": "stdout",
     "output_type": "stream",
     "text": [
      "The shape of the ID feature in train dataset is: (4209,)\n",
      "The shape of the ID feature in test dataset is: (4209,)\n"
     ]
    }
   ],
   "source": [
    "# Train dataset \n",
    "train_ID =  train_original_modified.ID\n",
    "print('The shape of the ID feature in train dataset is:' ,train_ID.shape)\n",
    "\n",
    "# Test dataset \n",
    "test_ID =  test_original_modified.ID\n",
    "print('The shape of the ID feature in test dataset is:' ,test_ID.shape)\n"
   ]
  },
  {
   "cell_type": "code",
   "execution_count": 123,
   "id": "56d1d925",
   "metadata": {},
   "outputs": [
    {
     "name": "stdout",
     "output_type": "stream",
     "text": [
      "The shape of the final train dataset is: (4209, 364)\n",
      "\n",
      "The shape of the final test dataset is: (4209, 364)\n"
     ]
    }
   ],
   "source": [
    "# Store the remaining values into the new object train_X and test_X and verify the shape\n",
    "\n",
    "# Train dataset\n",
    "train_X = train_original_modified.drop(columns = ['ID', 'y'])\n",
    "print('The shape of the final train dataset is:' ,train_X.shape)\n",
    "\n",
    "# Test dataset\n",
    "test_X = test_original_modified.drop(columns = ['ID'])\n",
    "print('\\nThe shape of the final test dataset is:' ,test_X.shape)\n"
   ]
  },
  {
   "cell_type": "code",
   "execution_count": 124,
   "id": "c274d3ba",
   "metadata": {},
   "outputs": [
    {
     "name": "stdout",
     "output_type": "stream",
     "text": [
      "The shape of the target feature of train dataswt is: (4209,)\n"
     ]
    }
   ],
   "source": [
    "# Store the 'y' values intonthe new object train_y and verify the shape\n",
    "train_y = train_original_modified.y\n",
    "print('The shape of the target feature of train dataswt is:' ,train_y.shape)"
   ]
  },
  {
   "cell_type": "code",
   "execution_count": 125,
   "id": "011b4538",
   "metadata": {},
   "outputs": [],
   "source": [
    "# Import the required pca liberary\n",
    "from sklearn.decomposition import PCA"
   ]
  },
  {
   "cell_type": "code",
   "execution_count": 126,
   "id": "876f5ae4",
   "metadata": {},
   "outputs": [],
   "source": [
    "# Before performing pca, the data needs to centered and scaled\n",
    "# After centering, the average value for each train and train features will be 0\n",
    "# After scaling, the standard deviation for each feature will be 1"
   ]
  },
  {
   "cell_type": "markdown",
   "id": "0f90eadf",
   "metadata": {},
   "source": [
    "##### Since all the features are having 0 and 1, there is no need to standardize"
   ]
  },
  {
   "cell_type": "code",
   "execution_count": 127,
   "id": "716c7f37",
   "metadata": {},
   "outputs": [],
   "source": [
    "# Create a PCA object (instantiate) \n",
    "pca = PCA()"
   ]
  },
  {
   "cell_type": "code",
   "execution_count": 128,
   "id": "08260c51",
   "metadata": {},
   "outputs": [],
   "source": [
    "# fit and transform the train dataset\n",
    "# transform the test dataset\n"
   ]
  },
  {
   "cell_type": "code",
   "execution_count": 129,
   "id": "e5bd4a01",
   "metadata": {},
   "outputs": [],
   "source": [
    "pca = PCA(n_components=30)"
   ]
  },
  {
   "cell_type": "code",
   "execution_count": 130,
   "id": "51a262ac",
   "metadata": {},
   "outputs": [],
   "source": [
    "# fit the train dataset\n",
    "pca_fit_train_X = pca.fit(train_X)"
   ]
  },
  {
   "cell_type": "code",
   "execution_count": 131,
   "id": "7a9a2e25",
   "metadata": {},
   "outputs": [
    {
     "data": {
      "text/plain": [
       "array([3.83347821e-01, 2.13880326e-01, 1.32618659e-01, 1.18266425e-01,\n",
       "       9.20600842e-02, 1.59060433e-02, 7.44539716e-03, 4.33701278e-03,\n",
       "       2.94020637e-03, 2.41796178e-03, 2.36488035e-03, 2.03228597e-03,\n",
       "       1.67203776e-03, 1.48111202e-03, 1.28702378e-03, 1.03575260e-03,\n",
       "       9.57334243e-04, 8.96963711e-04, 7.85687496e-04, 7.09719878e-04,\n",
       "       6.44381968e-04, 6.23812972e-04, 5.84619659e-04, 5.12442833e-04,\n",
       "       4.84777573e-04, 4.33103598e-04, 4.13934544e-04, 3.77636066e-04,\n",
       "       3.68605495e-04, 3.56041808e-04])"
      ]
     },
     "execution_count": 131,
     "metadata": {},
     "output_type": "execute_result"
    }
   ],
   "source": [
    "pca.explained_variance_ratio_"
   ]
  },
  {
   "cell_type": "code",
   "execution_count": 132,
   "id": "1579e48e",
   "metadata": {},
   "outputs": [
    {
     "data": {
      "text/plain": [
       "(30,)"
      ]
     },
     "execution_count": 132,
     "metadata": {},
     "output_type": "execute_result"
    }
   ],
   "source": [
    "pca.explained_variance_ratio_.shape"
   ]
  },
  {
   "cell_type": "code",
   "execution_count": 133,
   "id": "e55d6f66",
   "metadata": {},
   "outputs": [
    {
     "data": {
      "text/plain": [
       "0.9912420905191127"
      ]
     },
     "execution_count": 133,
     "metadata": {},
     "output_type": "execute_result"
    }
   ],
   "source": [
    "np.sum(pca.explained_variance_ratio_)"
   ]
  },
  {
   "cell_type": "code",
   "execution_count": 134,
   "id": "cccd3e7b",
   "metadata": {},
   "outputs": [],
   "source": [
    "# transform the train dataset\n",
    "train_X_fit_tranformed = pca_fit_train_X.transform(train_X)"
   ]
  },
  {
   "cell_type": "code",
   "execution_count": 135,
   "id": "ec10ea55",
   "metadata": {},
   "outputs": [],
   "source": [
    "# transform the train dataset\n",
    "test_X_transformed = pca.transform(test_X)"
   ]
  },
  {
   "cell_type": "code",
   "execution_count": 136,
   "id": "ae3dc2e4",
   "metadata": {},
   "outputs": [
    {
     "data": {
      "text/plain": [
       "((4209, 30), (4209, 30))"
      ]
     },
     "execution_count": 136,
     "metadata": {},
     "output_type": "execute_result"
    }
   ],
   "source": [
    "train_X_fit_tranformed.shape, test_X_transformed.shape"
   ]
  },
  {
   "cell_type": "code",
   "execution_count": 137,
   "id": "61190266",
   "metadata": {},
   "outputs": [
    {
     "data": {
      "text/plain": [
       "(4209, 364)"
      ]
     },
     "execution_count": 137,
     "metadata": {},
     "output_type": "execute_result"
    }
   ],
   "source": [
    "pca.inverse_transform(train_X_fit_tranformed).shape"
   ]
  },
  {
   "cell_type": "code",
   "execution_count": 138,
   "id": "c3a98c20",
   "metadata": {},
   "outputs": [
    {
     "data": {
      "text/plain": [
       "array([38.3, 59.7, 73. , 84.8, 94. , 95.6, 96.4, 96.8, 97.1, 97.3, 97.6,\n",
       "       97.8, 97.9, 98.1, 98.2, 98.3, 98.4, 98.5, 98.6, 98.6, 98.7, 98.8,\n",
       "       98.8, 98.9, 98.9, 99. , 99. , 99.1, 99.1, 99.1])"
      ]
     },
     "execution_count": 138,
     "metadata": {},
     "output_type": "execute_result"
    }
   ],
   "source": [
    "# Check the variation for the first 30 principal components\n",
    "pca_train_X_variation = np.round(pca_fit_train_X.explained_variance_ratio_.cumsum()*100, decimals=1)\n",
    "pca_train_X_variation"
   ]
  },
  {
   "cell_type": "code",
   "execution_count": 139,
   "id": "cce597b2",
   "metadata": {},
   "outputs": [],
   "source": [
    "# Assign labels for each PC's as PC1 and PC2, ...etc for visulization in scree plot\n",
    "labels = ['PC' + str(x) for x in range(1,len(pca_train_X_variation) + 1)]"
   ]
  },
  {
   "cell_type": "code",
   "execution_count": 140,
   "id": "6b8d0f9d",
   "metadata": {},
   "outputs": [
    {
     "data": {
      "image/png": "[encoded data removed]",
      "text/plain": [
       "<Figure size 1080x360 with 1 Axes>"
      ]
     },
     "metadata": {
      "needs_background": "light"
     },
     "output_type": "display_data"
    }
   ],
   "source": [
    "# Generate the scree plot\n",
    "plt.figure(figsize=(15,5))\n",
    "plt.bar(x=range(1,len(pca_train_X_variation) + 1), height=pca_train_X_variation, tick_label=labels)\n",
    "plt.xticks(rotation=90, color='green', size=15)\n",
    "plt.yticks(rotation=90, color='green', size=15)\n",
    "plt.title(\"Scree Plot\", color='violet', fontsize= 30)\n",
    "plt.xlabel('Principal Components', {'color' : 'tab:orange', 'fontsize':20})\n",
    "plt.ylabel('Cumulative percentage of explained variance', {'color' : 'tab:orange', 'fontsize':15})\n",
    "plt.show()\n"
   ]
  },
  {
   "cell_type": "markdown",
   "id": "8ff74ac8",
   "metadata": {},
   "source": [
    "##### Above scree plot shows that considering first 30 principal components should be sufficient to represent the train_X dataset"
   ]
  },
  {
   "cell_type": "code",
   "execution_count": 141,
   "id": "126ce250",
   "metadata": {},
   "outputs": [],
   "source": [
    "# Draw the 2D pca plot by considering only PC1 and PC2\n",
    "# pca plot visulize how the data is spread across the origin with new coordinates, based on the loading scores and scaling.\n",
    "# Put the new coordinates created by pca_fit_transform_train_X into matrix\n",
    "# Rows are the observations (X) and columns are the Principal Components (Y)"
   ]
  },
  {
   "cell_type": "code",
   "execution_count": 142,
   "id": "99f7616b",
   "metadata": {},
   "outputs": [
    {
     "data": {
      "text/html": [
       "<div>\n",
       "<style scoped>\n",
       "    .dataframe tbody tr th:only-of-type {\n",
       "        vertical-align: middle;\n",
       "    }\n",
       "\n",
       "    .dataframe tbody tr th {\n",
       "        vertical-align: top;\n",
       "    }\n",
       "\n",
       "    .dataframe thead th {\n",
       "        text-align: right;\n",
       "    }\n",
       "</style>\n",
       "<table border=\"1\" class=\"dataframe\">\n",
       "  <thead>\n",
       "    <tr style=\"text-align: right;\">\n",
       "      <th></th>\n",
       "      <th>PC1</th>\n",
       "      <th>PC2</th>\n",
       "      <th>PC3</th>\n",
       "      <th>PC4</th>\n",
       "      <th>PC5</th>\n",
       "      <th>PC6</th>\n",
       "      <th>PC7</th>\n",
       "      <th>PC8</th>\n",
       "      <th>PC9</th>\n",
       "      <th>PC10</th>\n",
       "      <th>...</th>\n",
       "      <th>PC21</th>\n",
       "      <th>PC22</th>\n",
       "      <th>PC23</th>\n",
       "      <th>PC24</th>\n",
       "      <th>PC25</th>\n",
       "      <th>PC26</th>\n",
       "      <th>PC27</th>\n",
       "      <th>PC28</th>\n",
       "      <th>PC29</th>\n",
       "      <th>PC30</th>\n",
       "    </tr>\n",
       "  </thead>\n",
       "  <tbody>\n",
       "    <tr>\n",
       "      <th>0</th>\n",
       "      <td>0.614765</td>\n",
       "      <td>-0.133009</td>\n",
       "      <td>15.624460</td>\n",
       "      <td>3.687564</td>\n",
       "      <td>1.359574</td>\n",
       "      <td>-2.691417</td>\n",
       "      <td>3.816741</td>\n",
       "      <td>1.537687</td>\n",
       "      <td>-0.647686</td>\n",
       "      <td>1.737523</td>\n",
       "      <td>...</td>\n",
       "      <td>-0.098501</td>\n",
       "      <td>-0.176134</td>\n",
       "      <td>-0.080923</td>\n",
       "      <td>-1.312045</td>\n",
       "      <td>0.164187</td>\n",
       "      <td>-0.079288</td>\n",
       "      <td>1.352753</td>\n",
       "      <td>1.323549</td>\n",
       "      <td>-0.651868</td>\n",
       "      <td>-0.037748</td>\n",
       "    </tr>\n",
       "    <tr>\n",
       "      <th>1</th>\n",
       "      <td>0.565407</td>\n",
       "      <td>1.560333</td>\n",
       "      <td>17.909581</td>\n",
       "      <td>-0.092902</td>\n",
       "      <td>1.536648</td>\n",
       "      <td>-4.442877</td>\n",
       "      <td>-0.796540</td>\n",
       "      <td>0.812571</td>\n",
       "      <td>-0.789268</td>\n",
       "      <td>-0.136565</td>\n",
       "      <td>...</td>\n",
       "      <td>-0.137238</td>\n",
       "      <td>-1.023778</td>\n",
       "      <td>-0.541239</td>\n",
       "      <td>0.490844</td>\n",
       "      <td>-0.259998</td>\n",
       "      <td>-0.587628</td>\n",
       "      <td>1.435220</td>\n",
       "      <td>0.444628</td>\n",
       "      <td>-0.757190</td>\n",
       "      <td>-0.178159</td>\n",
       "    </tr>\n",
       "    <tr>\n",
       "      <th>2</th>\n",
       "      <td>16.201713</td>\n",
       "      <td>12.292846</td>\n",
       "      <td>17.633540</td>\n",
       "      <td>0.186308</td>\n",
       "      <td>11.850820</td>\n",
       "      <td>-2.155389</td>\n",
       "      <td>0.828190</td>\n",
       "      <td>1.580676</td>\n",
       "      <td>-0.608199</td>\n",
       "      <td>-0.485257</td>\n",
       "      <td>...</td>\n",
       "      <td>0.592064</td>\n",
       "      <td>0.632807</td>\n",
       "      <td>-0.229850</td>\n",
       "      <td>0.255179</td>\n",
       "      <td>1.373396</td>\n",
       "      <td>0.370936</td>\n",
       "      <td>0.100369</td>\n",
       "      <td>-0.204697</td>\n",
       "      <td>-0.246243</td>\n",
       "      <td>0.046652</td>\n",
       "    </tr>\n",
       "    <tr>\n",
       "      <th>3</th>\n",
       "      <td>16.149998</td>\n",
       "      <td>13.535419</td>\n",
       "      <td>14.898695</td>\n",
       "      <td>-3.140917</td>\n",
       "      <td>-6.832193</td>\n",
       "      <td>-4.290014</td>\n",
       "      <td>-2.225924</td>\n",
       "      <td>2.099091</td>\n",
       "      <td>0.040956</td>\n",
       "      <td>-0.979216</td>\n",
       "      <td>...</td>\n",
       "      <td>-0.367805</td>\n",
       "      <td>0.307542</td>\n",
       "      <td>-0.029970</td>\n",
       "      <td>-0.090880</td>\n",
       "      <td>1.496205</td>\n",
       "      <td>-0.775480</td>\n",
       "      <td>-0.205411</td>\n",
       "      <td>0.438090</td>\n",
       "      <td>0.025565</td>\n",
       "      <td>0.023161</td>\n",
       "    </tr>\n",
       "    <tr>\n",
       "      <th>4</th>\n",
       "      <td>16.459103</td>\n",
       "      <td>13.175004</td>\n",
       "      <td>4.403096</td>\n",
       "      <td>7.671151</td>\n",
       "      <td>2.139916</td>\n",
       "      <td>3.763860</td>\n",
       "      <td>-1.954082</td>\n",
       "      <td>2.103654</td>\n",
       "      <td>1.178386</td>\n",
       "      <td>-1.021905</td>\n",
       "      <td>...</td>\n",
       "      <td>0.090166</td>\n",
       "      <td>-0.050347</td>\n",
       "      <td>-0.046020</td>\n",
       "      <td>-0.033261</td>\n",
       "      <td>0.555719</td>\n",
       "      <td>-0.072315</td>\n",
       "      <td>0.440109</td>\n",
       "      <td>-0.171539</td>\n",
       "      <td>0.120990</td>\n",
       "      <td>-0.132408</td>\n",
       "    </tr>\n",
       "  </tbody>\n",
       "</table>\n",
       "<p>5 rows × 30 columns</p>\n",
       "</div>"
      ],
      "text/plain": [
       "         PC1        PC2        PC3       PC4        PC5       PC6       PC7  \\\n",
       "0   0.614765  -0.133009  15.624460  3.687564   1.359574 -2.691417  3.816741   \n",
       "1   0.565407   1.560333  17.909581 -0.092902   1.536648 -4.442877 -0.796540   \n",
       "2  16.201713  12.292846  17.633540  0.186308  11.850820 -2.155389  0.828190   \n",
       "3  16.149998  13.535419  14.898695 -3.140917  -6.832193 -4.290014 -2.225924   \n",
       "4  16.459103  13.175004   4.403096  7.671151   2.139916  3.763860 -1.954082   \n",
       "\n",
       "        PC8       PC9      PC10  ...      PC21      PC22      PC23      PC24  \\\n",
       "0  1.537687 -0.647686  1.737523  ... -0.098501 -0.176134 -0.080923 -1.312045   \n",
       "1  0.812571 -0.789268 -0.136565  ... -0.137238 -1.023778 -0.541239  0.490844   \n",
       "2  1.580676 -0.608199 -0.485257  ...  0.592064  0.632807 -0.229850  0.255179   \n",
       "3  2.099091  0.040956 -0.979216  ... -0.367805  0.307542 -0.029970 -0.090880   \n",
       "4  2.103654  1.178386 -1.021905  ...  0.090166 -0.050347 -0.046020 -0.033261   \n",
       "\n",
       "       PC25      PC26      PC27      PC28      PC29      PC30  \n",
       "0  0.164187 -0.079288  1.352753  1.323549 -0.651868 -0.037748  \n",
       "1 -0.259998 -0.587628  1.435220  0.444628 -0.757190 -0.178159  \n",
       "2  1.373396  0.370936  0.100369 -0.204697 -0.246243  0.046652  \n",
       "3  1.496205 -0.775480 -0.205411  0.438090  0.025565  0.023161  \n",
       "4  0.555719 -0.072315  0.440109 -0.171539  0.120990 -0.132408  \n",
       "\n",
       "[5 rows x 30 columns]"
      ]
     },
     "execution_count": 142,
     "metadata": {},
     "output_type": "execute_result"
    }
   ],
   "source": [
    "pca_fit_transform_train_X_df = pd.DataFrame( train_X_fit_tranformed, columns=labels)\n",
    "pca_fit_transform_train_X_df.head()    "
   ]
  },
  {
   "cell_type": "code",
   "execution_count": 143,
   "id": "dcb67cf4",
   "metadata": {},
   "outputs": [],
   "source": [
    "# Draw 2D plot PCA plot for PC1 and PC2\n",
    "# Removing the cumsum() from the earlier expalained ratio calculation\n",
    "pca_train_X_variation_Nocumsum = np.round(pca_fit_train_X.explained_variance_ratio_*100, decimals=1)"
   ]
  },
  {
   "cell_type": "code",
   "execution_count": 144,
   "id": "fd0830df",
   "metadata": {},
   "outputs": [
    {
     "data": {
      "image/png": "[encoded data removed]",
      "text/plain": [
       "<Figure size 432x288 with 1 Axes>"
      ]
     },
     "metadata": {
      "needs_background": "light"
     },
     "output_type": "display_data"
    }
   ],
   "source": [
    "plt.scatter(pca_fit_transform_train_X_df.PC1, pca_fit_transform_train_X_df.PC2)\n",
    "plt.xticks(rotation=90, color='green', size=15)\n",
    "plt.yticks(rotation=90, color='green', size=15)\n",
    "plt.title(\"PCA plot\", color='violet', fontsize= 30)\n",
    "plt.xlabel('PC1 - {0}%'.format(pca_train_X_variation_Nocumsum[0]), {'color' : 'tab:orange', 'fontsize':15})\n",
    "plt.ylabel('PC2 - {0}%'.format(pca_train_X_variation_Nocumsum[1]), {'color' : 'tab:orange', 'fontsize':15})\n",
    "plt.show()\n",
    "\n",
    "# The Principal components are zero-indexed, So, PC1=[0], PC2=[1]"
   ]
  },
  {
   "cell_type": "markdown",
   "id": "3afb3022",
   "metadata": {},
   "source": [
    "##### Comment:\n",
    "    \n",
    "    1.Above PCA plot shows that how the dara is spread along X-axis(PC1) and Y-axis(PC2).\n",
    "    2.38.3% variance of the data is explained by PC1 and 21.4% of the data is explained by PC2.\n",
    "    3.Similarly we visilize how the data is spread among other pricipal component as well"
   ]
  },
  {
   "cell_type": "code",
   "execution_count": 145,
   "id": "f8df6ad7",
   "metadata": {},
   "outputs": [
    {
     "data": {
      "text/plain": [
       "0      0.931138\n",
       "2      0.257714\n",
       "1      0.245494\n",
       "7      0.036938\n",
       "119    0.017235\n",
       "177    0.017027\n",
       "183    0.017027\n",
       "341    0.017001\n",
       "80     0.015471\n",
       "294    0.014104\n",
       "dtype: float64"
      ]
     },
     "execution_count": 145,
     "metadata": {},
     "output_type": "execute_result"
    }
   ],
   "source": [
    "# Print the loading scores \n",
    "# Loading scores explains the proportion of each observation with respect to each principal components\n",
    "# Lets check only for the PC1\n",
    "loading_scores = pd.Series(pca.components_[0])\n",
    "\n",
    "# Sort the loading svores based on absolute value\n",
    "sorted_loading_scores = loading_scores.abs().sort_values(ascending=False)\n",
    "\n",
    "# Display only the top 10 loading scores\n",
    "sorted_loading_scores[0:10]"
   ]
  },
  {
   "cell_type": "code",
   "execution_count": 146,
   "id": "276ef82b",
   "metadata": {},
   "outputs": [
    {
     "name": "stdout",
     "output_type": "stream",
     "text": [
      "7.160618563899331e-07\n",
      "0.9311384705341247\n"
     ]
    }
   ],
   "source": [
    "# Print the minimum and maxmum loading scores of PC1\n",
    "print(sorted_loading_scores.min())\n",
    "print(sorted_loading_scores.max())"
   ]
  },
  {
   "cell_type": "markdown",
   "id": "d0e4889b",
   "metadata": {},
   "source": [
    "##### Comment:\n",
    "    \n",
    "    1. It can be concluded from the above loading scores that, almost all the observations of the train datasets play a role in separating the Principal components PC1\n",
    "    2. Example: The 175th observation has a 1 unit long vector consisting of the following:\n",
    "            * 0.931138 PC1 +......+XnPCn\n",
    "            * 0.931138 is properation of 175th observation for PC1\n",
    "            * This unit vector is called singular vector or eigen vector for PC1\n",
    "    3.similarly the loading scores will be calculated for PC2 as pca.components[1], etc.        "
   ]
  },
  {
   "cell_type": "code",
   "execution_count": 147,
   "id": "2a14df45",
   "metadata": {},
   "outputs": [
    {
     "data": {
      "text/plain": [
       "(4209, 30)"
      ]
     },
     "execution_count": 147,
     "metadata": {},
     "output_type": "execute_result"
    }
   ],
   "source": [
    "# Fron PCA, the final train and test datasets are as follows\n",
    "# train data\n",
    "train_X_fit_tranformed.shape"
   ]
  },
  {
   "cell_type": "code",
   "execution_count": 148,
   "id": "0e735c46",
   "metadata": {},
   "outputs": [
    {
     "data": {
      "text/plain": [
       "(4209, 30)"
      ]
     },
     "execution_count": 148,
     "metadata": {},
     "output_type": "execute_result"
    }
   ],
   "source": [
    "#test data\n",
    "test_X_transformed.shape"
   ]
  },
  {
   "cell_type": "code",
   "execution_count": 149,
   "id": "8ac8fc6e",
   "metadata": {},
   "outputs": [
    {
     "data": {
      "text/plain": [
       "(4209,)"
      ]
     },
     "execution_count": 149,
     "metadata": {},
     "output_type": "execute_result"
    }
   ],
   "source": [
    "# train label\n",
    "train_y.shape"
   ]
  },
  {
   "cell_type": "code",
   "execution_count": 150,
   "id": "ff01139b",
   "metadata": {},
   "outputs": [
    {
     "data": {
      "text/plain": [
       "(4209,)"
      ]
     },
     "execution_count": 150,
     "metadata": {},
     "output_type": "execute_result"
    }
   ],
   "source": [
    "# train ID\n",
    "train_ID.shape"
   ]
  },
  {
   "cell_type": "code",
   "execution_count": 151,
   "id": "5207b949",
   "metadata": {},
   "outputs": [
    {
     "data": {
      "text/plain": [
       "(4209,)"
      ]
     },
     "execution_count": 151,
     "metadata": {},
     "output_type": "execute_result"
    }
   ],
   "source": [
    "# test ID\n",
    "test_ID.shape"
   ]
  },
  {
   "cell_type": "markdown",
   "id": "2817530b",
   "metadata": {},
   "source": [
    "### Task 4 : To predict test_df values using XGBoost"
   ]
  },
  {
   "cell_type": "code",
   "execution_count": 152,
   "id": "32356b10",
   "metadata": {},
   "outputs": [
    {
     "data": {
      "image/png": "[encoded data removed]",
      "text/plain": [
       "<Figure size 432x288 with 1 Axes>"
      ]
     },
     "metadata": {
      "needs_background": "light"
     },
     "output_type": "display_data"
    }
   ],
   "source": [
    "# Before predicting the test values, lets check the target variable train_y for any outliers\n",
    "# If present, the value will be replaced with median values\n",
    "# Using boxplot to identify the outliers\n",
    "plt.boxplot(train_y)\n",
    "plt.show()"
   ]
  },
  {
   "cell_type": "markdown",
   "id": "c002a63d",
   "metadata": {},
   "source": [
    "##### Outliers are observed in the target variable train_y"
   ]
  },
  {
   "cell_type": "code",
   "execution_count": 153,
   "id": "4c303f94",
   "metadata": {},
   "outputs": [
    {
     "name": "stdout",
     "output_type": "stream",
     "text": [
      "99.15\n"
     ]
    }
   ],
   "source": [
    "# Print the 50th percentile value which is the median\n",
    "print(train_y.quantile(0.50))"
   ]
  },
  {
   "cell_type": "code",
   "execution_count": 154,
   "id": "7324eb18",
   "metadata": {},
   "outputs": [
    {
     "name": "stdout",
     "output_type": "stream",
     "text": [
      "120.806\n"
     ]
    }
   ],
   "source": [
    "# Print the 95th percentile value \n",
    "print(train_y.quantile(0.95)) "
   ]
  },
  {
   "cell_type": "code",
   "execution_count": 155,
   "id": "16096e89",
   "metadata": {},
   "outputs": [],
   "source": [
    "# Replace the outlier with median values\n",
    "train_y = np.where(train_y > 120.806, 99.15, train_y)\n"
   ]
  },
  {
   "cell_type": "code",
   "execution_count": 156,
   "id": "8618dbd8",
   "metadata": {},
   "outputs": [
    {
     "data": {
      "image/png": "[encoded data removed]",
      "text/plain": [
       "<Figure size 432x288 with 1 Axes>"
      ]
     },
     "metadata": {
      "needs_background": "light"
     },
     "output_type": "display_data"
    }
   ],
   "source": [
    "# Verify again with box_plot after replacing the outliers with median values\n",
    "plt.boxplot(train_y)\n",
    "plt.show()\n"
   ]
  },
  {
   "cell_type": "code",
   "execution_count": 157,
   "id": "b5c08221",
   "metadata": {},
   "outputs": [
    {
     "data": {
      "text/plain": [
       "(4209,)"
      ]
     },
     "execution_count": 157,
     "metadata": {},
     "output_type": "execute_result"
    }
   ],
   "source": [
    "# Check the shape again   \n",
    "train_y.shape"
   ]
  },
  {
   "cell_type": "markdown",
   "id": "5922b3e7",
   "metadata": {},
   "source": [
    "##### Comments:\n",
    "\n",
    "    1.It is evident from the box plot that outliers are replaced with median values in the target variable train_y\n",
    "    2.Also, there is no change in the shape of the target variable. Hence its good to go with further steps\n"
   ]
  },
  {
   "cell_type": "code",
   "execution_count": 182,
   "id": "80842f7b",
   "metadata": {},
   "outputs": [
    {
     "name": "stdout",
     "output_type": "stream",
     "text": [
      "Requirement already satisfied: xgboost in c:\\users\\shriram\\anaconda3\\lib\\site-packages (1.6.1)\n",
      "Requirement already satisfied: numpy in c:\\users\\shriram\\anaconda3\\lib\\site-packages (from xgboost) (1.20.3)\n",
      "Requirement already satisfied: scipy in c:\\users\\shriram\\anaconda3\\lib\\site-packages (from xgboost) (1.7.1)\n"
     ]
    }
   ],
   "source": [
    "# install xgboost\n",
    "! pip install xgboost"
   ]
  },
  {
   "cell_type": "code",
   "execution_count": 197,
   "id": "33f0dcc3",
   "metadata": {},
   "outputs": [],
   "source": [
    "# import the required libraries\n",
    "import time\n",
    "import xgboost as xgb\n",
    "from sklearn.model_selection import cross_val_score,cross_val_predict\n",
    "# Since objective is to predict continuous variable we use XGBregressor\n",
    "from xgboost import XGBRegressor"
   ]
  },
  {
   "cell_type": "code",
   "execution_count": 198,
   "id": "f988d956",
   "metadata": {},
   "outputs": [],
   "source": [
    "# Evaluation metrics for regression\n",
    "### Mean Absolute Error, Mean Squared Error and R2\n",
    "# We will use R2 in this case\n",
    "# R2 is also known as Coefficient of Determination\n",
    "# It gives the percentage variation in 'y' (test time) explained by 'X'variables\n",
    "# or,it gives the percentage of data points that fall within the regression line\n",
    "# R2= (1-SSR/SST) \n",
    "# SSR- Sum of square residual; SST- Sum of squares total\n",
    "# R2 value should be between 0 to 1\n",
    "# -R2 valve indicates the worst model"
   ]
  },
  {
   "cell_type": "code",
   "execution_count": 199,
   "id": "411a8938",
   "metadata": {},
   "outputs": [
    {
     "name": "stdout",
     "output_type": "stream",
     "text": [
      "XGBRegressor(base_score=None, booster=None, callbacks=None,\n",
      "             colsample_bylevel=None, colsample_bynode=None,\n",
      "             colsample_bytree=None, early_stopping_rounds=None,\n",
      "             enable_categorical=False, eval_metric=None, gamma=None,\n",
      "             gpu_id=None, grow_policy=None, importance_type=None,\n",
      "             interaction_constraints=None, learning_rate=None, max_bin=None,\n",
      "             max_cat_to_onehot=None, max_delta_step=None, max_depth=None,\n",
      "             max_leaves=None, min_child_weight=None, missing=nan,\n",
      "             monotone_constraints=None, n_estimators=100, n_jobs=None,\n",
      "             num_parallel_tree=None, predictor=None, random_state=None,\n",
      "             reg_alpha=None, reg_lambda=None, ...)\n"
     ]
    }
   ],
   "source": [
    "# print the XGBoost parameters\n",
    "print(XGBRegressor())"
   ]
  },
  {
   "cell_type": "code",
   "execution_count": 200,
   "id": "90162db2",
   "metadata": {},
   "outputs": [],
   "source": [
    "# Instantiate the Regressor\n",
    "# specifying random_state ensures same result if we run the model multiple times\n",
    "# Objective will be automatically set to ''reg:squarederror'\n",
    "xgb_reg = xgb.XGBRegressor() "
   ]
  },
  {
   "cell_type": "code",
   "execution_count": 201,
   "id": "32ffdb3c",
   "metadata": {},
   "outputs": [],
   "source": [
    "#To find best XGBoost Parameters\n",
    "params={ 'learning_rate'   : [0.01,0.05,0.1,1] ,\n",
    "         'max_depth'       : [2,3,5,10],\n",
    "         'min_child_weight': [ 0, 1, 3],\n",
    "         'n_estimators'    : [100,150,200,500],\n",
    "         'gamma'           : [1e-2,1e-3,0,0.1,0.01,0.5,1],\n",
    "         'colsample_bytree': [0.1,0.5,0.7,1],\n",
    "         'subsample'       : [0.2,0.3,0.5,1],\n",
    "         'reg_lambda'      : [0,1,10],\n",
    "         'reg_alpha'       : [1e-5,1e-3,1e-1,1,1e1] \n",
    "        }\n",
    "## Explainations of the parameters\n",
    "# 'max_depth' - Maximum depth of trees (default = 6, range: [0,∞])\n",
    "# 'Learning rate'(eta) - scaling the tree by learning rate predicts the output in smaller steps closer to the actual value.\n",
    "# 'reg_lambda' - L1 regularization parameter on weights to avoid overfit\n",
    "#  'reg_alpha' - L1 regularization parameter on weights to avoid overfit\n",
    "# 'gamma' - Minimum loss reduction required to make a further partition on a leaf node of the tree (pruning)\n",
    "# 'min_child_weight' - default =1. If the weights of each leaf is less than the min_child weight, then ramove the leaf\n",
    "# So weights of the each leaf is > min_child_weight\n",
    "# 'colsample_bytree': It is the subsample ratio of columns when constructing each tree.\n",
    "# 'Subsample' is the  ratio of the training instances.Setting it to 0.5 means that XGBoost would randomly sample half of the training data prior to growing trees. This will prevent overfitting. \n",
    "# Subsampling will occur once in every boosting iteration.\n",
    "# 'n_estimators' is the number of trees"
   ]
  },
  {
   "cell_type": "code",
   "execution_count": 202,
   "id": "3234d80c",
   "metadata": {},
   "outputs": [],
   "source": [
    "# Optimize the Hyperparameter using RandomizedSearchCV\n",
    "from sklearn.model_selection import RandomizedSearchCV"
   ]
  },
  {
   "cell_type": "code",
   "execution_count": 203,
   "id": "6eb6835a",
   "metadata": {},
   "outputs": [],
   "source": [
    "# Using Random search of parameters with 10 fold cross validation\n",
    "# Improve the predictions using cross validation to optimize the parameters\n",
    "Random_Search=RandomizedSearchCV (xgb_reg,params,cv=10, scoring='r2', return_train_score=True, n_jobs=-1,verbose=1) \n",
    "# cv=10 - Number of folds in a `(Stratified)KFold"
   ]
  },
  {
   "cell_type": "code",
   "execution_count": 204,
   "id": "c27d638d",
   "metadata": {},
   "outputs": [
    {
     "name": "stdout",
     "output_type": "stream",
     "text": [
      "Fitting 10 folds for each of 10 candidates, totalling 100 fits\n"
     ]
    },
    {
     "data": {
      "text/plain": [
       "RandomizedSearchCV(cv=10,\n",
       "                   estimator=XGBRegressor(base_score=None, booster=None,\n",
       "                                          callbacks=None,\n",
       "                                          colsample_bylevel=None,\n",
       "                                          colsample_bynode=None,\n",
       "                                          colsample_bytree=None,\n",
       "                                          early_stopping_rounds=None,\n",
       "                                          enable_categorical=False,\n",
       "                                          eval_metric=None, gamma=None,\n",
       "                                          gpu_id=None, grow_policy=None,\n",
       "                                          importance_type=None,\n",
       "                                          interaction_constraints=None,\n",
       "                                          learning_rate=None, max_bin=None,...\n",
       "                   n_jobs=-1,\n",
       "                   param_distributions={'colsample_bytree': [0.1, 0.5, 0.7, 1],\n",
       "                                        'gamma': [0.01, 0.001, 0, 0.1, 0.01,\n",
       "                                                  0.5, 1],\n",
       "                                        'learning_rate': [0.01, 0.05, 0.1, 1],\n",
       "                                        'max_depth': [2, 3, 5, 10],\n",
       "                                        'min_child_weight': [0, 1, 3],\n",
       "                                        'n_estimators': [100, 150, 200, 500],\n",
       "                                        'reg_alpha': [1e-05, 0.001, 0.1, 1,\n",
       "                                                      10.0],\n",
       "                                        'reg_lambda': [0, 1, 10],\n",
       "                                        'subsample': [0.2, 0.3, 0.5, 1]},\n",
       "                   return_train_score=True, scoring='r2', verbose=1)"
      ]
     },
     "execution_count": 204,
     "metadata": {},
     "output_type": "execute_result"
    }
   ],
   "source": [
    "# Fit the training set to the Randon_Search to obtain the best estimators and parameters.\n",
    "Random_Search.fit(train_X_fit_tranformed, train_y)"
   ]
  },
  {
   "cell_type": "code",
   "execution_count": 205,
   "id": "76f0f846",
   "metadata": {},
   "outputs": [
    {
     "data": {
      "text/plain": [
       "XGBRegressor(base_score=0.5, booster='gbtree', callbacks=None,\n",
       "             colsample_bylevel=1, colsample_bynode=1, colsample_bytree=0.7,\n",
       "             early_stopping_rounds=None, enable_categorical=False,\n",
       "             eval_metric=None, gamma=0.001, gpu_id=-1, grow_policy='depthwise',\n",
       "             importance_type=None, interaction_constraints='',\n",
       "             learning_rate=0.01, max_bin=256, max_cat_to_onehot=4,\n",
       "             max_delta_step=0, max_depth=5, max_leaves=0, min_child_weight=0,\n",
       "             missing=nan, monotone_constraints='()', n_estimators=500, n_jobs=0,\n",
       "             num_parallel_tree=1, predictor='auto', random_state=0,\n",
       "             reg_alpha=0.001, reg_lambda=10, ...)"
      ]
     },
     "execution_count": 205,
     "metadata": {},
     "output_type": "execute_result"
    }
   ],
   "source": [
    "# Print the best estimator\n",
    "Random_Search.best_estimator_"
   ]
  },
  {
   "cell_type": "code",
   "execution_count": 206,
   "id": "668e4e79",
   "metadata": {},
   "outputs": [
    {
     "data": {
      "text/plain": [
       "{'subsample': 1,\n",
       " 'reg_lambda': 10,\n",
       " 'reg_alpha': 0.001,\n",
       " 'n_estimators': 500,\n",
       " 'min_child_weight': 0,\n",
       " 'max_depth': 5,\n",
       " 'learning_rate': 0.01,\n",
       " 'gamma': 0.001,\n",
       " 'colsample_bytree': 0.7}"
      ]
     },
     "execution_count": 206,
     "metadata": {},
     "output_type": "execute_result"
    }
   ],
   "source": [
    "#Print the best parameters\n",
    "Random_Search.best_params_"
   ]
  },
  {
   "cell_type": "code",
   "execution_count": 210,
   "id": "89b4e5f2",
   "metadata": {},
   "outputs": [],
   "source": [
    "# Instantiate the XGBoost classifier with the best estimators and parameters\n",
    "xgb_reg=XGBRegressor(base_score=0.5, booster='gbtree', colsample_bylevel=1,\n",
    "             colsample_bynode=1, colsample_bytree=0.5, gamma=0.01, gpu_id=-1,\n",
    "             importance_type='gain', interaction_constraints='',\n",
    "             learning_rate=0.1, max_delta_step=0, max_depth=2,\n",
    "             min_child_weight=3, monotone_constraints='()',\n",
    "             n_estimators=500, n_jobs=2, num_parallel_tree=1, random_state=0,\n",
    "             reg_alpha=0.1, reg_lambda=10, scale_pos_weight=1, subsample=0.5,\n",
    "             tree_method='exact', validate_parameters=1, verbosity=None)"
   ]
  },
  {
   "cell_type": "code",
   "execution_count": 211,
   "id": "062b98a4",
   "metadata": {},
   "outputs": [
    {
     "data": {
      "text/plain": [
       "array([0.65436546, 0.63109827, 0.52570446, 0.65355931, 0.64484258,\n",
       "       0.5947896 , 0.51915124, 0.65021914, 0.64435957, 0.66105765])"
      ]
     },
     "execution_count": 211,
     "metadata": {},
     "output_type": "execute_result"
    }
   ],
   "source": [
    "# Check the r2 score of the model using Number of folds in a `(Stratified)KFold` cv=10\n",
    "r2_Score = cross_val_score(xgb_reg, train_X_fit_tranformed, train_y, scoring='r2',cv=10)\n",
    "r2_Score"
   ]
  },
  {
   "cell_type": "code",
   "execution_count": 212,
   "id": "3f97b896",
   "metadata": {},
   "outputs": [
    {
     "name": "stdout",
     "output_type": "stream",
     "text": [
      "r2_score of the model with cross validation is: 0.62\n"
     ]
    }
   ],
   "source": [
    "# Print the mean r2_score\n",
    "print('r2_score of the model with cross validation is:',round(r2_Score.mean(),2))"
   ]
  },
  {
   "cell_type": "markdown",
   "id": "39019290",
   "metadata": {},
   "source": [
    "##### Comments\n",
    "\n",
    "    1.Since r2_score with cross validation is: 0.62 or 62 % which is between 50 to 100%. Hence, its good to proceed with the prediction of time the car takes to pass testing using test data.\n",
    "    2.This means the model explains 62% variability of the target variable (y) around its mean."
   ]
  },
  {
   "cell_type": "code",
   "execution_count": 213,
   "id": "74bf8a72",
   "metadata": {},
   "outputs": [
    {
     "data": {
      "text/plain": [
       "XGBRegressor(base_score=0.5, booster='gbtree', callbacks=None,\n",
       "             colsample_bylevel=1, colsample_bynode=1, colsample_bytree=0.5,\n",
       "             early_stopping_rounds=None, enable_categorical=False,\n",
       "             eval_metric=None, gamma=0.01, gpu_id=-1, grow_policy='depthwise',\n",
       "             importance_type='gain', interaction_constraints='',\n",
       "             learning_rate=0.1, max_bin=256, max_cat_to_onehot=4,\n",
       "             max_delta_step=0, max_depth=2, max_leaves=0, min_child_weight=3,\n",
       "             missing=nan, monotone_constraints='()', n_estimators=500, n_jobs=2,\n",
       "             num_parallel_tree=1, predictor='auto', random_state=0,\n",
       "             reg_alpha=0.1, reg_lambda=10, ...)"
      ]
     },
     "execution_count": 213,
     "metadata": {},
     "output_type": "execute_result"
    }
   ],
   "source": [
    "# Fit the training data\n",
    "xgb_reg.fit(train_X_fit_tranformed,train_y)"
   ]
  },
  {
   "cell_type": "code",
   "execution_count": 214,
   "id": "51f9ef39",
   "metadata": {},
   "outputs": [
    {
     "data": {
      "text/plain": [
       "array([ 79.128876,  92.983475,  77.78317 , ...,  92.299034, 108.69983 ,\n",
       "        93.64422 ], dtype=float32)"
      ]
     },
     "execution_count": 214,
     "metadata": {},
     "output_type": "execute_result"
    }
   ],
   "source": [
    "# predict the time taken by car to pass testing using test dataset\n",
    "X_test_pred = xgb_reg.predict(test_X_transformed)\n",
    "X_test_pred "
   ]
  },
  {
   "cell_type": "code",
   "execution_count": 215,
   "id": "f5465c92",
   "metadata": {},
   "outputs": [
    {
     "data": {
      "text/html": [
       "<div>\n",
       "<style scoped>\n",
       "    .dataframe tbody tr th:only-of-type {\n",
       "        vertical-align: middle;\n",
       "    }\n",
       "\n",
       "    .dataframe tbody tr th {\n",
       "        vertical-align: top;\n",
       "    }\n",
       "\n",
       "    .dataframe thead th {\n",
       "        text-align: right;\n",
       "    }\n",
       "</style>\n",
       "<table border=\"1\" class=\"dataframe\">\n",
       "  <thead>\n",
       "    <tr style=\"text-align: right;\">\n",
       "      <th></th>\n",
       "      <th>ID</th>\n",
       "      <th>y</th>\n",
       "    </tr>\n",
       "  </thead>\n",
       "  <tbody>\n",
       "    <tr>\n",
       "      <th>0</th>\n",
       "      <td>1</td>\n",
       "      <td>79.128876</td>\n",
       "    </tr>\n",
       "    <tr>\n",
       "      <th>1</th>\n",
       "      <td>2</td>\n",
       "      <td>92.983475</td>\n",
       "    </tr>\n",
       "    <tr>\n",
       "      <th>2</th>\n",
       "      <td>3</td>\n",
       "      <td>77.783173</td>\n",
       "    </tr>\n",
       "    <tr>\n",
       "      <th>3</th>\n",
       "      <td>4</td>\n",
       "      <td>77.197304</td>\n",
       "    </tr>\n",
       "    <tr>\n",
       "      <th>4</th>\n",
       "      <td>5</td>\n",
       "      <td>107.544250</td>\n",
       "    </tr>\n",
       "    <tr>\n",
       "      <th>5</th>\n",
       "      <td>8</td>\n",
       "      <td>88.816566</td>\n",
       "    </tr>\n",
       "    <tr>\n",
       "      <th>6</th>\n",
       "      <td>10</td>\n",
       "      <td>107.806061</td>\n",
       "    </tr>\n",
       "    <tr>\n",
       "      <th>7</th>\n",
       "      <td>11</td>\n",
       "      <td>97.575119</td>\n",
       "    </tr>\n",
       "    <tr>\n",
       "      <th>8</th>\n",
       "      <td>12</td>\n",
       "      <td>111.287308</td>\n",
       "    </tr>\n",
       "    <tr>\n",
       "      <th>9</th>\n",
       "      <td>14</td>\n",
       "      <td>93.116371</td>\n",
       "    </tr>\n",
       "  </tbody>\n",
       "</table>\n",
       "</div>"
      ],
      "text/plain": [
       "   ID           y\n",
       "0   1   79.128876\n",
       "1   2   92.983475\n",
       "2   3   77.783173\n",
       "3   4   77.197304\n",
       "4   5  107.544250\n",
       "5   8   88.816566\n",
       "6  10  107.806061\n",
       "7  11   97.575119\n",
       "8  12  111.287308\n",
       "9  14   93.116371"
      ]
     },
     "execution_count": 215,
     "metadata": {},
     "output_type": "execute_result"
    }
   ],
   "source": [
    "# print the predicted value (time) in the form of table\n",
    "df_test_pred = pd.DataFrame({'ID': test_ID, 'y': X_test_pred})\n",
    "# Print the first 10 predicted values\n",
    "df_test_pred.head(10)"
   ]
  },
  {
   "cell_type": "code",
   "execution_count": 216,
   "id": "712c033b",
   "metadata": {},
   "outputs": [],
   "source": [
    "# save the predicted time values \n",
    "df_test_pred.to_csv('submission.csv', index=False)"
   ]
  },
  {
   "cell_type": "markdown",
   "id": "da102feb",
   "metadata": {},
   "source": [
    "##### Conclusion:\n",
    "    \n",
    "    For a given dataset, XGBoost Regressor algorithm with cross validation results in R2 score of 0.62."
   ]
  },
  {
   "cell_type": "markdown",
   "id": "26e4f545",
   "metadata": {},
   "source": [
    "##### Scope of Future Work:\n",
    "    \n",
    "    1.I have conisdered 30 principal components for the study using principal component analysis(PCA). Features can be further reduced by using different dimensionality reduction techniques.\n",
    "    2.I have used only XGBoost Regressor algorithm for predicting the time, a Mercedes-Benz spends on the test bench. R2 score can be further improved by using other regressor algorithms with hyperparameter tuning and cross validation.\n",
    "    3.As the number of features are more, Deep learning techniques can also be used for the study."
   ]
  },
  {
   "cell_type": "markdown",
   "id": "a831780e",
   "metadata": {},
   "source": [
    "##                                      ***      Project Completed     ***"
   ]
  }
 ],
 "metadata": {
  "kernelspec": {
   "display_name": "Python 3 (ipykernel)",
   "language": "python",
   "name": "python3"
  },
  "language_info": {
   "codemirror_mode": {
    "name": "ipython",
    "version": 3
   },
   "file_extension": ".py",
   "mimetype": "text/x-python",
   "name": "python",
   "nbconvert_exporter": "python",
   "pygments_lexer": "ipython3",
   "version": "3.9.7"
  }
 },
 "nbformat": 4,
 "nbformat_minor": 5
}
